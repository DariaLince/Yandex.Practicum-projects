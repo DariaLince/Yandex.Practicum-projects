{
 "cells": [
  {
   "cell_type": "markdown",
   "id": "6acc6902",
   "metadata": {},
   "source": [
    "Фабула: нам предоставили логи компьютерной игры \"Космические братья\" и данные о проплаченной рекламе. Нам нужно оценить рентабельность рекламных источников и поведение игроков в игре, чтобы дать рекомендации по рекламному каналу."
   ]
  },
  {
   "cell_type": "code",
   "execution_count": 1,
   "id": "4786cabc",
   "metadata": {},
   "outputs": [],
   "source": [
    "#загрузим библиотеки\n",
    "\n",
    "import pandas as pd\n",
    "import seaborn as sns\n",
    "import matplotlib.pyplot as plt\n",
    "from scipy import stats as st\n",
    "import numpy as np"
   ]
  },
  {
   "cell_type": "code",
   "execution_count": 2,
   "id": "c230532b",
   "metadata": {},
   "outputs": [],
   "source": [
    "#загрузим датасеты\n",
    "\n",
    "actions = pd.read_csv('/datasets/game_actions.csv')\n",
    "costs = pd.read_csv('/datasets/ad_costs.csv')\n",
    "source = pd.read_csv('/datasets/user_source.csv')"
   ]
  },
  {
   "cell_type": "code",
   "execution_count": 3,
   "id": "c8be3256",
   "metadata": {},
   "outputs": [],
   "source": [
    "pd.options.display.float_format = '{:,.2f}'.format"
   ]
  },
  {
   "cell_type": "code",
   "execution_count": 4,
   "id": "9f561480",
   "metadata": {},
   "outputs": [
    {
     "name": "stdout",
     "output_type": "stream",
     "text": [
      "<class 'pandas.core.frame.DataFrame'>\n",
      "RangeIndex: 135640 entries, 0 to 135639\n",
      "Data columns (total 5 columns):\n",
      " #   Column          Non-Null Count   Dtype \n",
      "---  ------          --------------   ----- \n",
      " 0   event_datetime  135640 non-null  object\n",
      " 1   event           135640 non-null  object\n",
      " 2   building_type   127957 non-null  object\n",
      " 3   user_id         135640 non-null  object\n",
      " 4   project_type    1866 non-null    object\n",
      "dtypes: object(5)\n",
      "memory usage: 5.2+ MB\n"
     ]
    },
    {
     "data": {
      "text/html": [
       "<div>\n",
       "<style scoped>\n",
       "    .dataframe tbody tr th:only-of-type {\n",
       "        vertical-align: middle;\n",
       "    }\n",
       "\n",
       "    .dataframe tbody tr th {\n",
       "        vertical-align: top;\n",
       "    }\n",
       "\n",
       "    .dataframe thead th {\n",
       "        text-align: right;\n",
       "    }\n",
       "</style>\n",
       "<table border=\"1\" class=\"dataframe\">\n",
       "  <thead>\n",
       "    <tr style=\"text-align: right;\">\n",
       "      <th></th>\n",
       "      <th>event_datetime</th>\n",
       "      <th>event</th>\n",
       "      <th>building_type</th>\n",
       "      <th>user_id</th>\n",
       "      <th>project_type</th>\n",
       "    </tr>\n",
       "  </thead>\n",
       "  <tbody>\n",
       "    <tr>\n",
       "      <th>0</th>\n",
       "      <td>2020-05-04 00:00:01</td>\n",
       "      <td>building</td>\n",
       "      <td>assembly_shop</td>\n",
       "      <td>55e92310-cb8e-4754-b622-597e124b03de</td>\n",
       "      <td>NaN</td>\n",
       "    </tr>\n",
       "    <tr>\n",
       "      <th>1</th>\n",
       "      <td>2020-05-04 00:00:03</td>\n",
       "      <td>building</td>\n",
       "      <td>assembly_shop</td>\n",
       "      <td>c07b1c10-f477-44dc-81dc-ec82254b1347</td>\n",
       "      <td>NaN</td>\n",
       "    </tr>\n",
       "    <tr>\n",
       "      <th>2</th>\n",
       "      <td>2020-05-04 00:00:16</td>\n",
       "      <td>building</td>\n",
       "      <td>assembly_shop</td>\n",
       "      <td>6edd42cc-e753-4ff6-a947-2107cd560710</td>\n",
       "      <td>NaN</td>\n",
       "    </tr>\n",
       "    <tr>\n",
       "      <th>3</th>\n",
       "      <td>2020-05-04 00:00:16</td>\n",
       "      <td>building</td>\n",
       "      <td>assembly_shop</td>\n",
       "      <td>92c69003-d60a-444a-827f-8cc51bf6bf4c</td>\n",
       "      <td>NaN</td>\n",
       "    </tr>\n",
       "    <tr>\n",
       "      <th>4</th>\n",
       "      <td>2020-05-04 00:00:35</td>\n",
       "      <td>building</td>\n",
       "      <td>assembly_shop</td>\n",
       "      <td>cdc6bb92-0ccb-4490-9866-ef142f09139d</td>\n",
       "      <td>NaN</td>\n",
       "    </tr>\n",
       "  </tbody>\n",
       "</table>\n",
       "</div>"
      ],
      "text/plain": [
       "        event_datetime     event  building_type  \\\n",
       "0  2020-05-04 00:00:01  building  assembly_shop   \n",
       "1  2020-05-04 00:00:03  building  assembly_shop   \n",
       "2  2020-05-04 00:00:16  building  assembly_shop   \n",
       "3  2020-05-04 00:00:16  building  assembly_shop   \n",
       "4  2020-05-04 00:00:35  building  assembly_shop   \n",
       "\n",
       "                                user_id project_type  \n",
       "0  55e92310-cb8e-4754-b622-597e124b03de          NaN  \n",
       "1  c07b1c10-f477-44dc-81dc-ec82254b1347          NaN  \n",
       "2  6edd42cc-e753-4ff6-a947-2107cd560710          NaN  \n",
       "3  92c69003-d60a-444a-827f-8cc51bf6bf4c          NaN  \n",
       "4  cdc6bb92-0ccb-4490-9866-ef142f09139d          NaN  "
      ]
     },
     "metadata": {},
     "output_type": "display_data"
    },
    {
     "data": {
      "text/plain": [
       "(135640, 5)"
      ]
     },
     "metadata": {},
     "output_type": "display_data"
    },
    {
     "data": {
      "text/plain": [
       "None"
      ]
     },
     "metadata": {},
     "output_type": "display_data"
    }
   ],
   "source": [
    "#посмотрим ближе на данные\n",
    "\n",
    "display(actions.head(),\n",
    "        actions.shape,\n",
    "        actions.info())"
   ]
  },
  {
   "cell_type": "code",
   "execution_count": 5,
   "id": "34ecfa5b",
   "metadata": {},
   "outputs": [
    {
     "name": "stdout",
     "output_type": "stream",
     "text": [
      "<class 'pandas.core.frame.DataFrame'>\n",
      "RangeIndex: 28 entries, 0 to 27\n",
      "Data columns (total 3 columns):\n",
      " #   Column  Non-Null Count  Dtype  \n",
      "---  ------  --------------  -----  \n",
      " 0   source  28 non-null     object \n",
      " 1   day     28 non-null     object \n",
      " 2   cost    28 non-null     float64\n",
      "dtypes: float64(1), object(2)\n",
      "memory usage: 800.0+ bytes\n"
     ]
    },
    {
     "data": {
      "text/html": [
       "<div>\n",
       "<style scoped>\n",
       "    .dataframe tbody tr th:only-of-type {\n",
       "        vertical-align: middle;\n",
       "    }\n",
       "\n",
       "    .dataframe tbody tr th {\n",
       "        vertical-align: top;\n",
       "    }\n",
       "\n",
       "    .dataframe thead th {\n",
       "        text-align: right;\n",
       "    }\n",
       "</style>\n",
       "<table border=\"1\" class=\"dataframe\">\n",
       "  <thead>\n",
       "    <tr style=\"text-align: right;\">\n",
       "      <th></th>\n",
       "      <th>source</th>\n",
       "      <th>day</th>\n",
       "      <th>cost</th>\n",
       "    </tr>\n",
       "  </thead>\n",
       "  <tbody>\n",
       "    <tr>\n",
       "      <th>0</th>\n",
       "      <td>facebook_ads</td>\n",
       "      <td>2020-05-03</td>\n",
       "      <td>935.88</td>\n",
       "    </tr>\n",
       "    <tr>\n",
       "      <th>1</th>\n",
       "      <td>facebook_ads</td>\n",
       "      <td>2020-05-04</td>\n",
       "      <td>548.35</td>\n",
       "    </tr>\n",
       "    <tr>\n",
       "      <th>2</th>\n",
       "      <td>facebook_ads</td>\n",
       "      <td>2020-05-05</td>\n",
       "      <td>260.19</td>\n",
       "    </tr>\n",
       "    <tr>\n",
       "      <th>3</th>\n",
       "      <td>facebook_ads</td>\n",
       "      <td>2020-05-06</td>\n",
       "      <td>177.98</td>\n",
       "    </tr>\n",
       "    <tr>\n",
       "      <th>4</th>\n",
       "      <td>facebook_ads</td>\n",
       "      <td>2020-05-07</td>\n",
       "      <td>111.77</td>\n",
       "    </tr>\n",
       "  </tbody>\n",
       "</table>\n",
       "</div>"
      ],
      "text/plain": [
       "         source         day   cost\n",
       "0  facebook_ads  2020-05-03 935.88\n",
       "1  facebook_ads  2020-05-04 548.35\n",
       "2  facebook_ads  2020-05-05 260.19\n",
       "3  facebook_ads  2020-05-06 177.98\n",
       "4  facebook_ads  2020-05-07 111.77"
      ]
     },
     "metadata": {},
     "output_type": "display_data"
    },
    {
     "data": {
      "text/plain": [
       "(28, 3)"
      ]
     },
     "metadata": {},
     "output_type": "display_data"
    },
    {
     "data": {
      "text/plain": [
       "None"
      ]
     },
     "metadata": {},
     "output_type": "display_data"
    }
   ],
   "source": [
    "display(costs.head(),\n",
    "        costs.shape,\n",
    "        costs.info())"
   ]
  },
  {
   "cell_type": "code",
   "execution_count": 6,
   "id": "dbdf8dba",
   "metadata": {},
   "outputs": [
    {
     "name": "stdout",
     "output_type": "stream",
     "text": [
      "<class 'pandas.core.frame.DataFrame'>\n",
      "RangeIndex: 13576 entries, 0 to 13575\n",
      "Data columns (total 2 columns):\n",
      " #   Column   Non-Null Count  Dtype \n",
      "---  ------   --------------  ----- \n",
      " 0   user_id  13576 non-null  object\n",
      " 1   source   13576 non-null  object\n",
      "dtypes: object(2)\n",
      "memory usage: 212.2+ KB\n"
     ]
    },
    {
     "data": {
      "text/html": [
       "<div>\n",
       "<style scoped>\n",
       "    .dataframe tbody tr th:only-of-type {\n",
       "        vertical-align: middle;\n",
       "    }\n",
       "\n",
       "    .dataframe tbody tr th {\n",
       "        vertical-align: top;\n",
       "    }\n",
       "\n",
       "    .dataframe thead th {\n",
       "        text-align: right;\n",
       "    }\n",
       "</style>\n",
       "<table border=\"1\" class=\"dataframe\">\n",
       "  <thead>\n",
       "    <tr style=\"text-align: right;\">\n",
       "      <th></th>\n",
       "      <th>user_id</th>\n",
       "      <th>source</th>\n",
       "    </tr>\n",
       "  </thead>\n",
       "  <tbody>\n",
       "    <tr>\n",
       "      <th>0</th>\n",
       "      <td>0001f83c-c6ac-4621-b7f0-8a28b283ac30</td>\n",
       "      <td>facebook_ads</td>\n",
       "    </tr>\n",
       "    <tr>\n",
       "      <th>1</th>\n",
       "      <td>00151b4f-ba38-44a8-a650-d7cf130a0105</td>\n",
       "      <td>yandex_direct</td>\n",
       "    </tr>\n",
       "    <tr>\n",
       "      <th>2</th>\n",
       "      <td>001aaea6-3d14-43f1-8ca8-7f48820f17aa</td>\n",
       "      <td>youtube_channel_reklama</td>\n",
       "    </tr>\n",
       "    <tr>\n",
       "      <th>3</th>\n",
       "      <td>001d39dc-366c-4021-9604-6a3b9ff01e25</td>\n",
       "      <td>instagram_new_adverts</td>\n",
       "    </tr>\n",
       "    <tr>\n",
       "      <th>4</th>\n",
       "      <td>002f508f-67b6-479f-814b-b05f00d4e995</td>\n",
       "      <td>facebook_ads</td>\n",
       "    </tr>\n",
       "  </tbody>\n",
       "</table>\n",
       "</div>"
      ],
      "text/plain": [
       "                                user_id                   source\n",
       "0  0001f83c-c6ac-4621-b7f0-8a28b283ac30             facebook_ads\n",
       "1  00151b4f-ba38-44a8-a650-d7cf130a0105            yandex_direct\n",
       "2  001aaea6-3d14-43f1-8ca8-7f48820f17aa  youtube_channel_reklama\n",
       "3  001d39dc-366c-4021-9604-6a3b9ff01e25    instagram_new_adverts\n",
       "4  002f508f-67b6-479f-814b-b05f00d4e995             facebook_ads"
      ]
     },
     "metadata": {},
     "output_type": "display_data"
    },
    {
     "data": {
      "text/plain": [
       "(13576, 2)"
      ]
     },
     "metadata": {},
     "output_type": "display_data"
    },
    {
     "data": {
      "text/plain": [
       "None"
      ]
     },
     "metadata": {},
     "output_type": "display_data"
    }
   ],
   "source": [
    "display(source.head(),\n",
    "        source.shape,\n",
    "        source.info())"
   ]
  },
  {
   "cell_type": "markdown",
   "id": "d0b078ab",
   "metadata": {},
   "source": [
    "Временные данные нужно перевести во временной формат, остальные данные соответствуют типам."
   ]
  },
  {
   "cell_type": "code",
   "execution_count": 7,
   "id": "0bcb1bb3",
   "metadata": {},
   "outputs": [],
   "source": [
    "#переведем данные о времени во временной формат и сразу выделим отдельно дату в датасете с действиями игроков\n",
    "\n",
    "actions['event_datetime'] = pd.to_datetime(actions['event_datetime'])\n",
    "costs['day'] = pd.to_datetime(costs['day'])"
   ]
  },
  {
   "cell_type": "code",
   "execution_count": 8,
   "id": "276c781d",
   "metadata": {},
   "outputs": [
    {
     "data": {
      "text/plain": [
       "1"
      ]
     },
     "execution_count": 8,
     "metadata": {},
     "output_type": "execute_result"
    }
   ],
   "source": [
    "#проверим датасеты на наличие дубликатов\n",
    "\n",
    "actions.duplicated().sum()"
   ]
  },
  {
   "cell_type": "code",
   "execution_count": 9,
   "id": "6c1e4171",
   "metadata": {},
   "outputs": [
    {
     "data": {
      "text/plain": [
       "0"
      ]
     },
     "execution_count": 9,
     "metadata": {},
     "output_type": "execute_result"
    }
   ],
   "source": [
    "costs.duplicated().sum()"
   ]
  },
  {
   "cell_type": "code",
   "execution_count": 10,
   "id": "7b314f3f",
   "metadata": {},
   "outputs": [
    {
     "data": {
      "text/plain": [
       "0"
      ]
     },
     "execution_count": 10,
     "metadata": {},
     "output_type": "execute_result"
    }
   ],
   "source": [
    "source.duplicated().sum()"
   ]
  },
  {
   "cell_type": "markdown",
   "id": "db3881c2",
   "metadata": {},
   "source": [
    "Много дубликатов в датасете с действиями игроков. Игроки могут совершть повторяющиеся действия при прохождении уровня, поэтому не вижу необходимости эти дубликаты убирать."
   ]
  },
  {
   "cell_type": "markdown",
   "id": "5ff097c9",
   "metadata": {},
   "source": [
    "В датасете с действиями игроков имеются пропуски в столбце с типом зданий и типом проекта. Как-то их заполнять тоже не вижу необходимости, вот причины:\n",
    "\n",
    "1. не все игроки строят все три типа зданий;\n",
    "2. не все игроки завершают уровень черех исследование, а победа без исследования у нас никак в данных не маркировалась. Значит, велика вероятность, что пропуски в столбце с типом проекта обозначают игроков, поторые прошли уровень через победу над противником или перестали играть, не завершив уровень."
   ]
  },
  {
   "cell_type": "code",
   "execution_count": 11,
   "id": "82998d7e",
   "metadata": {},
   "outputs": [
    {
     "data": {
      "text/plain": [
       "building            127957\n",
       "finished_stage_1      5817\n",
       "project               1866\n",
       "Name: event, dtype: int64"
      ]
     },
     "execution_count": 11,
     "metadata": {},
     "output_type": "execute_result"
    }
   ],
   "source": [
    "#посмотрим, какие значения есть в наших данных об игровых событиях\n",
    "\n",
    "actions['event'].value_counts()"
   ]
  },
  {
   "cell_type": "markdown",
   "id": "35244702",
   "metadata": {},
   "source": [
    "Первый уровень завершили 5817 игроков. 1866 завершили проект по сборке спутников, но не факт, что перешли на следующий уровень.\n",
    "\n",
    "Постройка чаще всего встречается среди событий потому, что каждый игрок строит несколько зданий, а не одно."
   ]
  },
  {
   "cell_type": "code",
   "execution_count": 12,
   "id": "94434d20",
   "metadata": {},
   "outputs": [
    {
     "data": {
      "text/plain": [
       "youtube_channel_reklama    7\n",
       "yandex_direct              7\n",
       "facebook_ads               7\n",
       "instagram_new_adverts      7\n",
       "Name: source, dtype: int64"
      ]
     },
     "execution_count": 12,
     "metadata": {},
     "output_type": "execute_result"
    }
   ],
   "source": [
    "#посмотрим, какие рекламные источники использовались\n",
    "\n",
    "costs['source'].value_counts()"
   ]
  },
  {
   "cell_type": "markdown",
   "id": "bd1824b6",
   "metadata": {},
   "source": [
    "Реклама закупалась на 4 источниках: Facebook, Instagram, Yandex, Youtube. Рекламный трафик распределен равномерно по каналам. "
   ]
  },
  {
   "cell_type": "code",
   "execution_count": 13,
   "id": "dbaa3e0a",
   "metadata": {},
   "outputs": [
    {
     "data": {
      "text/plain": [
       "Timestamp('2020-05-04 00:00:01')"
      ]
     },
     "execution_count": 13,
     "metadata": {},
     "output_type": "execute_result"
    }
   ],
   "source": [
    "#посмотрим, какие временные рамки охватывают данные, и как распределяется активность игроков\n",
    "\n",
    "actions['event_datetime'].min()"
   ]
  },
  {
   "cell_type": "code",
   "execution_count": 14,
   "id": "8126186e",
   "metadata": {},
   "outputs": [
    {
     "data": {
      "text/plain": [
       "Timestamp('2020-06-05 12:32:49')"
      ]
     },
     "execution_count": 14,
     "metadata": {},
     "output_type": "execute_result"
    }
   ],
   "source": [
    "actions['event_datetime'].max()"
   ]
  },
  {
   "cell_type": "code",
   "execution_count": 15,
   "id": "c9600cb9",
   "metadata": {},
   "outputs": [],
   "source": [
    "#выделим информацию о дате без времени\n",
    "\n",
    "actions['day'] = actions['event_datetime'].dt.date"
   ]
  },
  {
   "cell_type": "code",
   "execution_count": 16,
   "id": "92e81df1",
   "metadata": {},
   "outputs": [
    {
     "data": {
      "image/png": "[encoded data removed]",
      "text/plain": [
       "<Figure size 1080x360 with 1 Axes>"
      ]
     },
     "metadata": {
      "needs_background": "light"
     },
     "output_type": "display_data"
    }
   ],
   "source": [
    "#построим график активности игроков\n",
    "\n",
    "actions.groupby('day')['event'].count().plot(grid=True, figsize=(15,5), color='g')\n",
    "plt.title('Активность игроков по дням')\n",
    "plt.xlabel('Дата')\n",
    "plt.ylabel('Кол-во действий')\n",
    "plt.show()"
   ]
  },
  {
   "cell_type": "markdown",
   "id": "c72d64a1",
   "metadata": {},
   "source": [
    "На майских выходных активность выше всего, затем она снижается. До конца рассматриваемого периода дошло очень мало игроков."
   ]
  },
  {
   "cell_type": "code",
   "execution_count": 17,
   "id": "75612a91",
   "metadata": {},
   "outputs": [],
   "source": [
    "actions1 = pd.get_dummies(actions, columns=['building_type'])"
   ]
  },
  {
   "cell_type": "code",
   "execution_count": 18,
   "id": "50189f19",
   "metadata": {},
   "outputs": [],
   "source": [
    "actions1 = pd.get_dummies(actions1, columns=['event'])"
   ]
  },
  {
   "cell_type": "code",
   "execution_count": 19,
   "id": "8c724fd8",
   "metadata": {},
   "outputs": [
    {
     "data": {
      "text/html": [
       "<div>\n",
       "<style scoped>\n",
       "    .dataframe tbody tr th:only-of-type {\n",
       "        vertical-align: middle;\n",
       "    }\n",
       "\n",
       "    .dataframe tbody tr th {\n",
       "        vertical-align: top;\n",
       "    }\n",
       "\n",
       "    .dataframe thead th {\n",
       "        text-align: right;\n",
       "    }\n",
       "</style>\n",
       "<table border=\"1\" class=\"dataframe\">\n",
       "  <thead>\n",
       "    <tr style=\"text-align: right;\">\n",
       "      <th></th>\n",
       "      <th>event_datetime</th>\n",
       "      <th>user_id</th>\n",
       "      <th>day</th>\n",
       "      <th>building_type_assembly_shop</th>\n",
       "      <th>building_type_research_center</th>\n",
       "      <th>building_type_spaceport</th>\n",
       "      <th>event_building</th>\n",
       "      <th>event_finished_stage_1</th>\n",
       "      <th>event_project</th>\n",
       "      <th>project_type_satellite_orbital_assembly</th>\n",
       "    </tr>\n",
       "  </thead>\n",
       "  <tbody>\n",
       "    <tr>\n",
       "      <th>0</th>\n",
       "      <td>2020-05-04 00:00:01</td>\n",
       "      <td>55e92310-cb8e-4754-b622-597e124b03de</td>\n",
       "      <td>2020-05-04</td>\n",
       "      <td>1</td>\n",
       "      <td>0</td>\n",
       "      <td>0</td>\n",
       "      <td>1</td>\n",
       "      <td>0</td>\n",
       "      <td>0</td>\n",
       "      <td>0</td>\n",
       "    </tr>\n",
       "    <tr>\n",
       "      <th>1</th>\n",
       "      <td>2020-05-04 00:00:03</td>\n",
       "      <td>c07b1c10-f477-44dc-81dc-ec82254b1347</td>\n",
       "      <td>2020-05-04</td>\n",
       "      <td>1</td>\n",
       "      <td>0</td>\n",
       "      <td>0</td>\n",
       "      <td>1</td>\n",
       "      <td>0</td>\n",
       "      <td>0</td>\n",
       "      <td>0</td>\n",
       "    </tr>\n",
       "    <tr>\n",
       "      <th>2</th>\n",
       "      <td>2020-05-04 00:00:16</td>\n",
       "      <td>6edd42cc-e753-4ff6-a947-2107cd560710</td>\n",
       "      <td>2020-05-04</td>\n",
       "      <td>1</td>\n",
       "      <td>0</td>\n",
       "      <td>0</td>\n",
       "      <td>1</td>\n",
       "      <td>0</td>\n",
       "      <td>0</td>\n",
       "      <td>0</td>\n",
       "    </tr>\n",
       "    <tr>\n",
       "      <th>3</th>\n",
       "      <td>2020-05-04 00:00:16</td>\n",
       "      <td>92c69003-d60a-444a-827f-8cc51bf6bf4c</td>\n",
       "      <td>2020-05-04</td>\n",
       "      <td>1</td>\n",
       "      <td>0</td>\n",
       "      <td>0</td>\n",
       "      <td>1</td>\n",
       "      <td>0</td>\n",
       "      <td>0</td>\n",
       "      <td>0</td>\n",
       "    </tr>\n",
       "    <tr>\n",
       "      <th>4</th>\n",
       "      <td>2020-05-04 00:00:35</td>\n",
       "      <td>cdc6bb92-0ccb-4490-9866-ef142f09139d</td>\n",
       "      <td>2020-05-04</td>\n",
       "      <td>1</td>\n",
       "      <td>0</td>\n",
       "      <td>0</td>\n",
       "      <td>1</td>\n",
       "      <td>0</td>\n",
       "      <td>0</td>\n",
       "      <td>0</td>\n",
       "    </tr>\n",
       "  </tbody>\n",
       "</table>\n",
       "</div>"
      ],
      "text/plain": [
       "       event_datetime                               user_id         day  \\\n",
       "0 2020-05-04 00:00:01  55e92310-cb8e-4754-b622-597e124b03de  2020-05-04   \n",
       "1 2020-05-04 00:00:03  c07b1c10-f477-44dc-81dc-ec82254b1347  2020-05-04   \n",
       "2 2020-05-04 00:00:16  6edd42cc-e753-4ff6-a947-2107cd560710  2020-05-04   \n",
       "3 2020-05-04 00:00:16  92c69003-d60a-444a-827f-8cc51bf6bf4c  2020-05-04   \n",
       "4 2020-05-04 00:00:35  cdc6bb92-0ccb-4490-9866-ef142f09139d  2020-05-04   \n",
       "\n",
       "   building_type_assembly_shop  building_type_research_center  \\\n",
       "0                            1                              0   \n",
       "1                            1                              0   \n",
       "2                            1                              0   \n",
       "3                            1                              0   \n",
       "4                            1                              0   \n",
       "\n",
       "   building_type_spaceport  event_building  event_finished_stage_1  \\\n",
       "0                        0               1                       0   \n",
       "1                        0               1                       0   \n",
       "2                        0               1                       0   \n",
       "3                        0               1                       0   \n",
       "4                        0               1                       0   \n",
       "\n",
       "   event_project  project_type_satellite_orbital_assembly  \n",
       "0              0                                        0  \n",
       "1              0                                        0  \n",
       "2              0                                        0  \n",
       "3              0                                        0  \n",
       "4              0                                        0  "
      ]
     },
     "execution_count": 19,
     "metadata": {},
     "output_type": "execute_result"
    }
   ],
   "source": [
    "actions1 = pd.get_dummies(actions1, columns=['project_type'])\n",
    "actions1.head()"
   ]
  },
  {
   "cell_type": "markdown",
   "id": "1d756609",
   "metadata": {},
   "source": [
    "# 1.2 Вывод "
   ]
  },
  {
   "cell_type": "markdown",
   "id": "27338ab2",
   "metadata": {},
   "source": [
    "Мы завершили исследовательский анализ данных. На вход поступили 3 датасета с информацией об игроках, их действиях, рекламных источниках и затратах.\n",
    "\n",
    "Данные были преобразованы к нужным типам. Пропуски и дубликаты в таблице с логами игры было решено не трогать, т.к. в данном контексте они могут нести дополнительную информацию. "
   ]
  },
  {
   "cell_type": "markdown",
   "id": "3a6f8cda",
   "metadata": {},
   "source": [
    "# 2.1 Расчет рентабельности рекламных источников"
   ]
  },
  {
   "cell_type": "code",
   "execution_count": 20,
   "id": "ea8edb19",
   "metadata": {},
   "outputs": [],
   "source": [
    "#сформируем профили пользователей\n",
    "\n",
    "profiles = actions1.sort_values(by=['user_id', 'event_datetime']).groupby('user_id').agg({'event_datetime':['first', 'last'], 'building_type_assembly_shop':'sum', 'building_type_research_center':'sum', 'building_type_spaceport':'sum', 'event_building':'sum', 'event_finished_stage_1':'sum', 'event_project':'sum', 'project_type_satellite_orbital_assembly':'sum'})"
   ]
  },
  {
   "cell_type": "code",
   "execution_count": 21,
   "id": "96af22c7",
   "metadata": {},
   "outputs": [
    {
     "data": {
      "text/html": [
       "<div>\n",
       "<style scoped>\n",
       "    .dataframe tbody tr th:only-of-type {\n",
       "        vertical-align: middle;\n",
       "    }\n",
       "\n",
       "    .dataframe tbody tr th {\n",
       "        vertical-align: top;\n",
       "    }\n",
       "\n",
       "    .dataframe thead tr th {\n",
       "        text-align: left;\n",
       "    }\n",
       "\n",
       "    .dataframe thead tr:last-of-type th {\n",
       "        text-align: right;\n",
       "    }\n",
       "</style>\n",
       "<table border=\"1\" class=\"dataframe\">\n",
       "  <thead>\n",
       "    <tr>\n",
       "      <th></th>\n",
       "      <th colspan=\"2\" halign=\"left\">event_datetime</th>\n",
       "      <th>building_type_assembly_shop</th>\n",
       "      <th>building_type_research_center</th>\n",
       "      <th>building_type_spaceport</th>\n",
       "      <th>event_building</th>\n",
       "      <th>event_finished_stage_1</th>\n",
       "      <th>event_project</th>\n",
       "      <th>project_type_satellite_orbital_assembly</th>\n",
       "    </tr>\n",
       "    <tr>\n",
       "      <th></th>\n",
       "      <th>first</th>\n",
       "      <th>last</th>\n",
       "      <th>sum</th>\n",
       "      <th>sum</th>\n",
       "      <th>sum</th>\n",
       "      <th>sum</th>\n",
       "      <th>sum</th>\n",
       "      <th>sum</th>\n",
       "      <th>sum</th>\n",
       "    </tr>\n",
       "    <tr>\n",
       "      <th>user_id</th>\n",
       "      <th></th>\n",
       "      <th></th>\n",
       "      <th></th>\n",
       "      <th></th>\n",
       "      <th></th>\n",
       "      <th></th>\n",
       "      <th></th>\n",
       "      <th></th>\n",
       "      <th></th>\n",
       "    </tr>\n",
       "  </thead>\n",
       "  <tbody>\n",
       "    <tr>\n",
       "      <th>0001f83c-c6ac-4621-b7f0-8a28b283ac30</th>\n",
       "      <td>2020-05-06 01:07:37</td>\n",
       "      <td>2020-05-20 11:26:06</td>\n",
       "      <td>6</td>\n",
       "      <td>1</td>\n",
       "      <td>6</td>\n",
       "      <td>13</td>\n",
       "      <td>0</td>\n",
       "      <td>0</td>\n",
       "      <td>0</td>\n",
       "    </tr>\n",
       "    <tr>\n",
       "      <th>00151b4f-ba38-44a8-a650-d7cf130a0105</th>\n",
       "      <td>2020-05-06 03:09:12</td>\n",
       "      <td>2020-05-18 10:46:52</td>\n",
       "      <td>4</td>\n",
       "      <td>0</td>\n",
       "      <td>5</td>\n",
       "      <td>9</td>\n",
       "      <td>0</td>\n",
       "      <td>0</td>\n",
       "      <td>0</td>\n",
       "    </tr>\n",
       "    <tr>\n",
       "      <th>001aaea6-3d14-43f1-8ca8-7f48820f17aa</th>\n",
       "      <td>2020-05-05 18:08:52</td>\n",
       "      <td>2020-05-14 09:21:27</td>\n",
       "      <td>2</td>\n",
       "      <td>0</td>\n",
       "      <td>2</td>\n",
       "      <td>4</td>\n",
       "      <td>0</td>\n",
       "      <td>0</td>\n",
       "      <td>0</td>\n",
       "    </tr>\n",
       "    <tr>\n",
       "      <th>001d39dc-366c-4021-9604-6a3b9ff01e25</th>\n",
       "      <td>2020-05-05 21:02:05</td>\n",
       "      <td>2020-05-12 07:40:47</td>\n",
       "      <td>4</td>\n",
       "      <td>0</td>\n",
       "      <td>4</td>\n",
       "      <td>8</td>\n",
       "      <td>1</td>\n",
       "      <td>0</td>\n",
       "      <td>0</td>\n",
       "    </tr>\n",
       "    <tr>\n",
       "      <th>002f508f-67b6-479f-814b-b05f00d4e995</th>\n",
       "      <td>2020-05-05 13:49:58</td>\n",
       "      <td>2020-05-22 02:46:45</td>\n",
       "      <td>3</td>\n",
       "      <td>1</td>\n",
       "      <td>8</td>\n",
       "      <td>12</td>\n",
       "      <td>0</td>\n",
       "      <td>0</td>\n",
       "      <td>0</td>\n",
       "    </tr>\n",
       "  </tbody>\n",
       "</table>\n",
       "</div>"
      ],
      "text/plain": [
       "                                          event_datetime                      \\\n",
       "                                                   first                last   \n",
       "user_id                                                                        \n",
       "0001f83c-c6ac-4621-b7f0-8a28b283ac30 2020-05-06 01:07:37 2020-05-20 11:26:06   \n",
       "00151b4f-ba38-44a8-a650-d7cf130a0105 2020-05-06 03:09:12 2020-05-18 10:46:52   \n",
       "001aaea6-3d14-43f1-8ca8-7f48820f17aa 2020-05-05 18:08:52 2020-05-14 09:21:27   \n",
       "001d39dc-366c-4021-9604-6a3b9ff01e25 2020-05-05 21:02:05 2020-05-12 07:40:47   \n",
       "002f508f-67b6-479f-814b-b05f00d4e995 2020-05-05 13:49:58 2020-05-22 02:46:45   \n",
       "\n",
       "                                     building_type_assembly_shop  \\\n",
       "                                                             sum   \n",
       "user_id                                                            \n",
       "0001f83c-c6ac-4621-b7f0-8a28b283ac30                           6   \n",
       "00151b4f-ba38-44a8-a650-d7cf130a0105                           4   \n",
       "001aaea6-3d14-43f1-8ca8-7f48820f17aa                           2   \n",
       "001d39dc-366c-4021-9604-6a3b9ff01e25                           4   \n",
       "002f508f-67b6-479f-814b-b05f00d4e995                           3   \n",
       "\n",
       "                                     building_type_research_center  \\\n",
       "                                                               sum   \n",
       "user_id                                                              \n",
       "0001f83c-c6ac-4621-b7f0-8a28b283ac30                             1   \n",
       "00151b4f-ba38-44a8-a650-d7cf130a0105                             0   \n",
       "001aaea6-3d14-43f1-8ca8-7f48820f17aa                             0   \n",
       "001d39dc-366c-4021-9604-6a3b9ff01e25                             0   \n",
       "002f508f-67b6-479f-814b-b05f00d4e995                             1   \n",
       "\n",
       "                                     building_type_spaceport event_building  \\\n",
       "                                                         sum            sum   \n",
       "user_id                                                                       \n",
       "0001f83c-c6ac-4621-b7f0-8a28b283ac30                       6             13   \n",
       "00151b4f-ba38-44a8-a650-d7cf130a0105                       5              9   \n",
       "001aaea6-3d14-43f1-8ca8-7f48820f17aa                       2              4   \n",
       "001d39dc-366c-4021-9604-6a3b9ff01e25                       4              8   \n",
       "002f508f-67b6-479f-814b-b05f00d4e995                       8             12   \n",
       "\n",
       "                                     event_finished_stage_1 event_project  \\\n",
       "                                                        sum           sum   \n",
       "user_id                                                                     \n",
       "0001f83c-c6ac-4621-b7f0-8a28b283ac30                      0             0   \n",
       "00151b4f-ba38-44a8-a650-d7cf130a0105                      0             0   \n",
       "001aaea6-3d14-43f1-8ca8-7f48820f17aa                      0             0   \n",
       "001d39dc-366c-4021-9604-6a3b9ff01e25                      1             0   \n",
       "002f508f-67b6-479f-814b-b05f00d4e995                      0             0   \n",
       "\n",
       "                                     project_type_satellite_orbital_assembly  \n",
       "                                                                         sum  \n",
       "user_id                                                                       \n",
       "0001f83c-c6ac-4621-b7f0-8a28b283ac30                                       0  \n",
       "00151b4f-ba38-44a8-a650-d7cf130a0105                                       0  \n",
       "001aaea6-3d14-43f1-8ca8-7f48820f17aa                                       0  \n",
       "001d39dc-366c-4021-9604-6a3b9ff01e25                                       0  \n",
       "002f508f-67b6-479f-814b-b05f00d4e995                                       0  "
      ]
     },
     "execution_count": 21,
     "metadata": {},
     "output_type": "execute_result"
    }
   ],
   "source": [
    "profiles.head()"
   ]
  },
  {
   "cell_type": "code",
   "execution_count": 22,
   "id": "019da820",
   "metadata": {},
   "outputs": [],
   "source": [
    "profiles.columns = profiles.columns.map(lambda x: x[1]) \n",
    "profiles = profiles.reset_index()"
   ]
  },
  {
   "cell_type": "code",
   "execution_count": 23,
   "id": "9f1c45f1",
   "metadata": {},
   "outputs": [],
   "source": [
    "#выделим отдельно день из полной даты-времени\n",
    "\n",
    "profiles['start_day'] = profiles['first'].dt.date\n",
    "profiles['end_day'] = profiles['last'].dt.date\n",
    "profiles['start_day'] = pd.to_datetime(profiles['start_day'])\n",
    "profiles['end_day'] = pd.to_datetime(profiles['end_day'])"
   ]
  },
  {
   "cell_type": "code",
   "execution_count": 24,
   "id": "d73c236a",
   "metadata": {
    "scrolled": true
   },
   "outputs": [
    {
     "data": {
      "text/html": [
       "<div>\n",
       "<style scoped>\n",
       "    .dataframe tbody tr th:only-of-type {\n",
       "        vertical-align: middle;\n",
       "    }\n",
       "\n",
       "    .dataframe tbody tr th {\n",
       "        vertical-align: top;\n",
       "    }\n",
       "\n",
       "    .dataframe thead th {\n",
       "        text-align: right;\n",
       "    }\n",
       "</style>\n",
       "<table border=\"1\" class=\"dataframe\">\n",
       "  <thead>\n",
       "    <tr style=\"text-align: right;\">\n",
       "      <th></th>\n",
       "      <th>user_id</th>\n",
       "      <th>first</th>\n",
       "      <th>last</th>\n",
       "      <th>assembly_shop</th>\n",
       "      <th>research_center</th>\n",
       "      <th>spaceport</th>\n",
       "      <th>building</th>\n",
       "      <th>finished_stage_1</th>\n",
       "      <th>project</th>\n",
       "      <th>satellite_orbital_assembly</th>\n",
       "      <th>start_day</th>\n",
       "      <th>end_day</th>\n",
       "    </tr>\n",
       "  </thead>\n",
       "  <tbody>\n",
       "    <tr>\n",
       "      <th>0</th>\n",
       "      <td>0001f83c-c6ac-4621-b7f0-8a28b283ac30</td>\n",
       "      <td>2020-05-06 01:07:37</td>\n",
       "      <td>2020-05-20 11:26:06</td>\n",
       "      <td>6</td>\n",
       "      <td>1</td>\n",
       "      <td>6</td>\n",
       "      <td>13</td>\n",
       "      <td>0</td>\n",
       "      <td>0</td>\n",
       "      <td>0</td>\n",
       "      <td>2020-05-06</td>\n",
       "      <td>2020-05-20</td>\n",
       "    </tr>\n",
       "    <tr>\n",
       "      <th>1</th>\n",
       "      <td>00151b4f-ba38-44a8-a650-d7cf130a0105</td>\n",
       "      <td>2020-05-06 03:09:12</td>\n",
       "      <td>2020-05-18 10:46:52</td>\n",
       "      <td>4</td>\n",
       "      <td>0</td>\n",
       "      <td>5</td>\n",
       "      <td>9</td>\n",
       "      <td>0</td>\n",
       "      <td>0</td>\n",
       "      <td>0</td>\n",
       "      <td>2020-05-06</td>\n",
       "      <td>2020-05-18</td>\n",
       "    </tr>\n",
       "    <tr>\n",
       "      <th>2</th>\n",
       "      <td>001aaea6-3d14-43f1-8ca8-7f48820f17aa</td>\n",
       "      <td>2020-05-05 18:08:52</td>\n",
       "      <td>2020-05-14 09:21:27</td>\n",
       "      <td>2</td>\n",
       "      <td>0</td>\n",
       "      <td>2</td>\n",
       "      <td>4</td>\n",
       "      <td>0</td>\n",
       "      <td>0</td>\n",
       "      <td>0</td>\n",
       "      <td>2020-05-05</td>\n",
       "      <td>2020-05-14</td>\n",
       "    </tr>\n",
       "    <tr>\n",
       "      <th>3</th>\n",
       "      <td>001d39dc-366c-4021-9604-6a3b9ff01e25</td>\n",
       "      <td>2020-05-05 21:02:05</td>\n",
       "      <td>2020-05-12 07:40:47</td>\n",
       "      <td>4</td>\n",
       "      <td>0</td>\n",
       "      <td>4</td>\n",
       "      <td>8</td>\n",
       "      <td>1</td>\n",
       "      <td>0</td>\n",
       "      <td>0</td>\n",
       "      <td>2020-05-05</td>\n",
       "      <td>2020-05-12</td>\n",
       "    </tr>\n",
       "    <tr>\n",
       "      <th>4</th>\n",
       "      <td>002f508f-67b6-479f-814b-b05f00d4e995</td>\n",
       "      <td>2020-05-05 13:49:58</td>\n",
       "      <td>2020-05-22 02:46:45</td>\n",
       "      <td>3</td>\n",
       "      <td>1</td>\n",
       "      <td>8</td>\n",
       "      <td>12</td>\n",
       "      <td>0</td>\n",
       "      <td>0</td>\n",
       "      <td>0</td>\n",
       "      <td>2020-05-05</td>\n",
       "      <td>2020-05-22</td>\n",
       "    </tr>\n",
       "  </tbody>\n",
       "</table>\n",
       "</div>"
      ],
      "text/plain": [
       "                                user_id               first  \\\n",
       "0  0001f83c-c6ac-4621-b7f0-8a28b283ac30 2020-05-06 01:07:37   \n",
       "1  00151b4f-ba38-44a8-a650-d7cf130a0105 2020-05-06 03:09:12   \n",
       "2  001aaea6-3d14-43f1-8ca8-7f48820f17aa 2020-05-05 18:08:52   \n",
       "3  001d39dc-366c-4021-9604-6a3b9ff01e25 2020-05-05 21:02:05   \n",
       "4  002f508f-67b6-479f-814b-b05f00d4e995 2020-05-05 13:49:58   \n",
       "\n",
       "                 last  assembly_shop  research_center  spaceport  building  \\\n",
       "0 2020-05-20 11:26:06              6                1          6        13   \n",
       "1 2020-05-18 10:46:52              4                0          5         9   \n",
       "2 2020-05-14 09:21:27              2                0          2         4   \n",
       "3 2020-05-12 07:40:47              4                0          4         8   \n",
       "4 2020-05-22 02:46:45              3                1          8        12   \n",
       "\n",
       "   finished_stage_1  project  satellite_orbital_assembly  start_day    end_day  \n",
       "0                 0        0                           0 2020-05-06 2020-05-20  \n",
       "1                 0        0                           0 2020-05-06 2020-05-18  \n",
       "2                 0        0                           0 2020-05-05 2020-05-14  \n",
       "3                 1        0                           0 2020-05-05 2020-05-12  \n",
       "4                 0        0                           0 2020-05-05 2020-05-22  "
      ]
     },
     "execution_count": 24,
     "metadata": {},
     "output_type": "execute_result"
    }
   ],
   "source": [
    "profiles.columns = ['user_id', 'first', 'last', 'assembly_shop', 'research_center', 'spaceport', 'building', 'finished_stage_1', 'project', 'satellite_orbital_assembly', 'start_day', 'end_day']\n",
    "profiles.head()"
   ]
  },
  {
   "cell_type": "code",
   "execution_count": 25,
   "id": "82083e63",
   "metadata": {},
   "outputs": [
    {
     "data": {
      "text/html": [
       "<div>\n",
       "<style scoped>\n",
       "    .dataframe tbody tr th:only-of-type {\n",
       "        vertical-align: middle;\n",
       "    }\n",
       "\n",
       "    .dataframe tbody tr th {\n",
       "        vertical-align: top;\n",
       "    }\n",
       "\n",
       "    .dataframe thead th {\n",
       "        text-align: right;\n",
       "    }\n",
       "</style>\n",
       "<table border=\"1\" class=\"dataframe\">\n",
       "  <thead>\n",
       "    <tr style=\"text-align: right;\">\n",
       "      <th></th>\n",
       "      <th>user_id</th>\n",
       "      <th>assembly_shop</th>\n",
       "      <th>research_center</th>\n",
       "      <th>spaceport</th>\n",
       "      <th>building</th>\n",
       "      <th>finished_stage_1</th>\n",
       "      <th>project</th>\n",
       "      <th>satellite_orbital_assembly</th>\n",
       "      <th>start_day</th>\n",
       "      <th>end_day</th>\n",
       "    </tr>\n",
       "  </thead>\n",
       "  <tbody>\n",
       "    <tr>\n",
       "      <th>0</th>\n",
       "      <td>0001f83c-c6ac-4621-b7f0-8a28b283ac30</td>\n",
       "      <td>6</td>\n",
       "      <td>1</td>\n",
       "      <td>6</td>\n",
       "      <td>13</td>\n",
       "      <td>0</td>\n",
       "      <td>0</td>\n",
       "      <td>0</td>\n",
       "      <td>2020-05-06</td>\n",
       "      <td>2020-05-20</td>\n",
       "    </tr>\n",
       "    <tr>\n",
       "      <th>1</th>\n",
       "      <td>00151b4f-ba38-44a8-a650-d7cf130a0105</td>\n",
       "      <td>4</td>\n",
       "      <td>0</td>\n",
       "      <td>5</td>\n",
       "      <td>9</td>\n",
       "      <td>0</td>\n",
       "      <td>0</td>\n",
       "      <td>0</td>\n",
       "      <td>2020-05-06</td>\n",
       "      <td>2020-05-18</td>\n",
       "    </tr>\n",
       "    <tr>\n",
       "      <th>2</th>\n",
       "      <td>001aaea6-3d14-43f1-8ca8-7f48820f17aa</td>\n",
       "      <td>2</td>\n",
       "      <td>0</td>\n",
       "      <td>2</td>\n",
       "      <td>4</td>\n",
       "      <td>0</td>\n",
       "      <td>0</td>\n",
       "      <td>0</td>\n",
       "      <td>2020-05-05</td>\n",
       "      <td>2020-05-14</td>\n",
       "    </tr>\n",
       "    <tr>\n",
       "      <th>3</th>\n",
       "      <td>001d39dc-366c-4021-9604-6a3b9ff01e25</td>\n",
       "      <td>4</td>\n",
       "      <td>0</td>\n",
       "      <td>4</td>\n",
       "      <td>8</td>\n",
       "      <td>1</td>\n",
       "      <td>0</td>\n",
       "      <td>0</td>\n",
       "      <td>2020-05-05</td>\n",
       "      <td>2020-05-12</td>\n",
       "    </tr>\n",
       "    <tr>\n",
       "      <th>4</th>\n",
       "      <td>002f508f-67b6-479f-814b-b05f00d4e995</td>\n",
       "      <td>3</td>\n",
       "      <td>1</td>\n",
       "      <td>8</td>\n",
       "      <td>12</td>\n",
       "      <td>0</td>\n",
       "      <td>0</td>\n",
       "      <td>0</td>\n",
       "      <td>2020-05-05</td>\n",
       "      <td>2020-05-22</td>\n",
       "    </tr>\n",
       "  </tbody>\n",
       "</table>\n",
       "</div>"
      ],
      "text/plain": [
       "                                user_id  assembly_shop  research_center  \\\n",
       "0  0001f83c-c6ac-4621-b7f0-8a28b283ac30              6                1   \n",
       "1  00151b4f-ba38-44a8-a650-d7cf130a0105              4                0   \n",
       "2  001aaea6-3d14-43f1-8ca8-7f48820f17aa              2                0   \n",
       "3  001d39dc-366c-4021-9604-6a3b9ff01e25              4                0   \n",
       "4  002f508f-67b6-479f-814b-b05f00d4e995              3                1   \n",
       "\n",
       "   spaceport  building  finished_stage_1  project  satellite_orbital_assembly  \\\n",
       "0          6        13                 0        0                           0   \n",
       "1          5         9                 0        0                           0   \n",
       "2          2         4                 0        0                           0   \n",
       "3          4         8                 1        0                           0   \n",
       "4          8        12                 0        0                           0   \n",
       "\n",
       "   start_day    end_day  \n",
       "0 2020-05-06 2020-05-20  \n",
       "1 2020-05-06 2020-05-18  \n",
       "2 2020-05-05 2020-05-14  \n",
       "3 2020-05-05 2020-05-12  \n",
       "4 2020-05-05 2020-05-22  "
      ]
     },
     "execution_count": 25,
     "metadata": {},
     "output_type": "execute_result"
    }
   ],
   "source": [
    "#убираем лишнее из таблицы\n",
    "\n",
    "profiles = profiles.drop('first', axis=1)\n",
    "profiles = profiles.drop('last', axis=1)\n",
    "profiles.head()"
   ]
  },
  {
   "cell_type": "code",
   "execution_count": 26,
   "id": "8429bd19",
   "metadata": {},
   "outputs": [],
   "source": [
    "#добавим в таблицу информацию об источниках рекламы\n",
    "\n",
    "profiles = profiles.merge(source, on='user_id')"
   ]
  },
  {
   "cell_type": "code",
   "execution_count": 27,
   "id": "c8ad01f0",
   "metadata": {},
   "outputs": [
    {
     "data": {
      "text/html": [
       "<div>\n",
       "<style scoped>\n",
       "    .dataframe tbody tr th:only-of-type {\n",
       "        vertical-align: middle;\n",
       "    }\n",
       "\n",
       "    .dataframe tbody tr th {\n",
       "        vertical-align: top;\n",
       "    }\n",
       "\n",
       "    .dataframe thead th {\n",
       "        text-align: right;\n",
       "    }\n",
       "</style>\n",
       "<table border=\"1\" class=\"dataframe\">\n",
       "  <thead>\n",
       "    <tr style=\"text-align: right;\">\n",
       "      <th></th>\n",
       "      <th>start_day</th>\n",
       "      <th>source</th>\n",
       "      <th>user_id</th>\n",
       "    </tr>\n",
       "  </thead>\n",
       "  <tbody>\n",
       "    <tr>\n",
       "      <th>0</th>\n",
       "      <td>2020-05-04</td>\n",
       "      <td>facebook_ads</td>\n",
       "      <td>1184</td>\n",
       "    </tr>\n",
       "    <tr>\n",
       "      <th>1</th>\n",
       "      <td>2020-05-04</td>\n",
       "      <td>instagram_new_adverts</td>\n",
       "      <td>1452</td>\n",
       "    </tr>\n",
       "    <tr>\n",
       "      <th>2</th>\n",
       "      <td>2020-05-04</td>\n",
       "      <td>yandex_direct</td>\n",
       "      <td>2078</td>\n",
       "    </tr>\n",
       "    <tr>\n",
       "      <th>3</th>\n",
       "      <td>2020-05-04</td>\n",
       "      <td>youtube_channel_reklama</td>\n",
       "      <td>1146</td>\n",
       "    </tr>\n",
       "    <tr>\n",
       "      <th>4</th>\n",
       "      <td>2020-05-05</td>\n",
       "      <td>facebook_ads</td>\n",
       "      <td>694</td>\n",
       "    </tr>\n",
       "  </tbody>\n",
       "</table>\n",
       "</div>"
      ],
      "text/plain": [
       "   start_day                   source  user_id\n",
       "0 2020-05-04             facebook_ads     1184\n",
       "1 2020-05-04    instagram_new_adverts     1452\n",
       "2 2020-05-04            yandex_direct     2078\n",
       "3 2020-05-04  youtube_channel_reklama     1146\n",
       "4 2020-05-05             facebook_ads      694"
      ]
     },
     "execution_count": 27,
     "metadata": {},
     "output_type": "execute_result"
    }
   ],
   "source": [
    "#разделим пользователей на когорты по рекламному источнику и дате привлечения\n",
    "\n",
    "users = (profiles.groupby(['start_day', 'source']).agg({'user_id': 'nunique'})).reset_index()\n",
    "users.head()"
   ]
  },
  {
   "cell_type": "code",
   "execution_count": 28,
   "id": "badebb70",
   "metadata": {},
   "outputs": [
    {
     "data": {
      "text/html": [
       "<div>\n",
       "<style scoped>\n",
       "    .dataframe tbody tr th:only-of-type {\n",
       "        vertical-align: middle;\n",
       "    }\n",
       "\n",
       "    .dataframe tbody tr th {\n",
       "        vertical-align: top;\n",
       "    }\n",
       "\n",
       "    .dataframe thead th {\n",
       "        text-align: right;\n",
       "    }\n",
       "</style>\n",
       "<table border=\"1\" class=\"dataframe\">\n",
       "  <thead>\n",
       "    <tr style=\"text-align: right;\">\n",
       "      <th></th>\n",
       "      <th>source</th>\n",
       "      <th>start_day</th>\n",
       "      <th>cost</th>\n",
       "    </tr>\n",
       "  </thead>\n",
       "  <tbody>\n",
       "    <tr>\n",
       "      <th>0</th>\n",
       "      <td>facebook_ads</td>\n",
       "      <td>2020-05-03</td>\n",
       "      <td>935.88</td>\n",
       "    </tr>\n",
       "    <tr>\n",
       "      <th>1</th>\n",
       "      <td>facebook_ads</td>\n",
       "      <td>2020-05-04</td>\n",
       "      <td>548.35</td>\n",
       "    </tr>\n",
       "    <tr>\n",
       "      <th>2</th>\n",
       "      <td>facebook_ads</td>\n",
       "      <td>2020-05-05</td>\n",
       "      <td>260.19</td>\n",
       "    </tr>\n",
       "    <tr>\n",
       "      <th>3</th>\n",
       "      <td>facebook_ads</td>\n",
       "      <td>2020-05-06</td>\n",
       "      <td>177.98</td>\n",
       "    </tr>\n",
       "    <tr>\n",
       "      <th>4</th>\n",
       "      <td>facebook_ads</td>\n",
       "      <td>2020-05-07</td>\n",
       "      <td>111.77</td>\n",
       "    </tr>\n",
       "  </tbody>\n",
       "</table>\n",
       "</div>"
      ],
      "text/plain": [
       "         source  start_day   cost\n",
       "0  facebook_ads 2020-05-03 935.88\n",
       "1  facebook_ads 2020-05-04 548.35\n",
       "2  facebook_ads 2020-05-05 260.19\n",
       "3  facebook_ads 2020-05-06 177.98\n",
       "4  facebook_ads 2020-05-07 111.77"
      ]
     },
     "execution_count": 28,
     "metadata": {},
     "output_type": "execute_result"
    }
   ],
   "source": [
    "costs = costs.rename(columns={'day':'start_day'})\n",
    "costs.head()"
   ]
  },
  {
   "cell_type": "code",
   "execution_count": 29,
   "id": "e26ea6b5",
   "metadata": {},
   "outputs": [
    {
     "data": {
      "text/html": [
       "<div>\n",
       "<style scoped>\n",
       "    .dataframe tbody tr th:only-of-type {\n",
       "        vertical-align: middle;\n",
       "    }\n",
       "\n",
       "    .dataframe tbody tr th {\n",
       "        vertical-align: top;\n",
       "    }\n",
       "\n",
       "    .dataframe thead th {\n",
       "        text-align: right;\n",
       "    }\n",
       "</style>\n",
       "<table border=\"1\" class=\"dataframe\">\n",
       "  <thead>\n",
       "    <tr style=\"text-align: right;\">\n",
       "      <th></th>\n",
       "      <th>source</th>\n",
       "      <th>start_day</th>\n",
       "      <th>cost</th>\n",
       "      <th>user_id</th>\n",
       "      <th>cac</th>\n",
       "    </tr>\n",
       "  </thead>\n",
       "  <tbody>\n",
       "    <tr>\n",
       "      <th>0</th>\n",
       "      <td>facebook_ads</td>\n",
       "      <td>2020-05-04</td>\n",
       "      <td>548.35</td>\n",
       "      <td>1184</td>\n",
       "      <td>0.46</td>\n",
       "    </tr>\n",
       "    <tr>\n",
       "      <th>1</th>\n",
       "      <td>instagram_new_adverts</td>\n",
       "      <td>2020-05-04</td>\n",
       "      <td>502.93</td>\n",
       "      <td>1452</td>\n",
       "      <td>0.35</td>\n",
       "    </tr>\n",
       "    <tr>\n",
       "      <th>2</th>\n",
       "      <td>yandex_direct</td>\n",
       "      <td>2020-05-04</td>\n",
       "      <td>554.65</td>\n",
       "      <td>2078</td>\n",
       "      <td>0.27</td>\n",
       "    </tr>\n",
       "    <tr>\n",
       "      <th>3</th>\n",
       "      <td>youtube_channel_reklama</td>\n",
       "      <td>2020-05-04</td>\n",
       "      <td>259.07</td>\n",
       "      <td>1146</td>\n",
       "      <td>0.23</td>\n",
       "    </tr>\n",
       "    <tr>\n",
       "      <th>4</th>\n",
       "      <td>facebook_ads</td>\n",
       "      <td>2020-05-05</td>\n",
       "      <td>260.19</td>\n",
       "      <td>694</td>\n",
       "      <td>0.37</td>\n",
       "    </tr>\n",
       "  </tbody>\n",
       "</table>\n",
       "</div>"
      ],
      "text/plain": [
       "                    source  start_day   cost  user_id  cac\n",
       "0             facebook_ads 2020-05-04 548.35     1184 0.46\n",
       "1    instagram_new_adverts 2020-05-04 502.93     1452 0.35\n",
       "2            yandex_direct 2020-05-04 554.65     2078 0.27\n",
       "3  youtube_channel_reklama 2020-05-04 259.07     1146 0.23\n",
       "4             facebook_ads 2020-05-05 260.19      694 0.37"
      ]
     },
     "execution_count": 29,
     "metadata": {},
     "output_type": "execute_result"
    }
   ],
   "source": [
    "#рассчитаем стоимость привлечения каждого пользователя\n",
    "\n",
    "costs = costs.merge(users, on=['start_day', 'source'], how='right')\n",
    "costs['cac'] = costs['cost'] / costs['user_id']\n",
    "costs.head()"
   ]
  },
  {
   "cell_type": "code",
   "execution_count": 30,
   "id": "f68ed804",
   "metadata": {},
   "outputs": [
    {
     "data": {
      "text/html": [
       "<div>\n",
       "<style scoped>\n",
       "    .dataframe tbody tr th:only-of-type {\n",
       "        vertical-align: middle;\n",
       "    }\n",
       "\n",
       "    .dataframe tbody tr th {\n",
       "        vertical-align: top;\n",
       "    }\n",
       "\n",
       "    .dataframe thead th {\n",
       "        text-align: right;\n",
       "    }\n",
       "</style>\n",
       "<table border=\"1\" class=\"dataframe\">\n",
       "  <thead>\n",
       "    <tr style=\"text-align: right;\">\n",
       "      <th></th>\n",
       "      <th>user_id</th>\n",
       "      <th>assembly_shop</th>\n",
       "      <th>research_center</th>\n",
       "      <th>spaceport</th>\n",
       "      <th>building</th>\n",
       "      <th>finished_stage_1</th>\n",
       "      <th>project</th>\n",
       "      <th>satellite_orbital_assembly</th>\n",
       "      <th>start_day</th>\n",
       "      <th>end_day</th>\n",
       "      <th>source</th>\n",
       "      <th>cac</th>\n",
       "    </tr>\n",
       "  </thead>\n",
       "  <tbody>\n",
       "    <tr>\n",
       "      <th>0</th>\n",
       "      <td>0001f83c-c6ac-4621-b7f0-8a28b283ac30</td>\n",
       "      <td>6</td>\n",
       "      <td>1</td>\n",
       "      <td>6</td>\n",
       "      <td>13</td>\n",
       "      <td>0</td>\n",
       "      <td>0</td>\n",
       "      <td>0</td>\n",
       "      <td>2020-05-06</td>\n",
       "      <td>2020-05-20</td>\n",
       "      <td>facebook_ads</td>\n",
       "      <td>0.52</td>\n",
       "    </tr>\n",
       "    <tr>\n",
       "      <th>1</th>\n",
       "      <td>00151b4f-ba38-44a8-a650-d7cf130a0105</td>\n",
       "      <td>4</td>\n",
       "      <td>0</td>\n",
       "      <td>5</td>\n",
       "      <td>9</td>\n",
       "      <td>0</td>\n",
       "      <td>0</td>\n",
       "      <td>0</td>\n",
       "      <td>2020-05-06</td>\n",
       "      <td>2020-05-18</td>\n",
       "      <td>yandex_direct</td>\n",
       "      <td>0.27</td>\n",
       "    </tr>\n",
       "    <tr>\n",
       "      <th>2</th>\n",
       "      <td>001aaea6-3d14-43f1-8ca8-7f48820f17aa</td>\n",
       "      <td>2</td>\n",
       "      <td>0</td>\n",
       "      <td>2</td>\n",
       "      <td>4</td>\n",
       "      <td>0</td>\n",
       "      <td>0</td>\n",
       "      <td>0</td>\n",
       "      <td>2020-05-05</td>\n",
       "      <td>2020-05-14</td>\n",
       "      <td>youtube_channel_reklama</td>\n",
       "      <td>0.22</td>\n",
       "    </tr>\n",
       "    <tr>\n",
       "      <th>3</th>\n",
       "      <td>001d39dc-366c-4021-9604-6a3b9ff01e25</td>\n",
       "      <td>4</td>\n",
       "      <td>0</td>\n",
       "      <td>4</td>\n",
       "      <td>8</td>\n",
       "      <td>1</td>\n",
       "      <td>0</td>\n",
       "      <td>0</td>\n",
       "      <td>2020-05-05</td>\n",
       "      <td>2020-05-12</td>\n",
       "      <td>instagram_new_adverts</td>\n",
       "      <td>0.39</td>\n",
       "    </tr>\n",
       "    <tr>\n",
       "      <th>4</th>\n",
       "      <td>002f508f-67b6-479f-814b-b05f00d4e995</td>\n",
       "      <td>3</td>\n",
       "      <td>1</td>\n",
       "      <td>8</td>\n",
       "      <td>12</td>\n",
       "      <td>0</td>\n",
       "      <td>0</td>\n",
       "      <td>0</td>\n",
       "      <td>2020-05-05</td>\n",
       "      <td>2020-05-22</td>\n",
       "      <td>facebook_ads</td>\n",
       "      <td>0.37</td>\n",
       "    </tr>\n",
       "  </tbody>\n",
       "</table>\n",
       "</div>"
      ],
      "text/plain": [
       "                                user_id  assembly_shop  research_center  \\\n",
       "0  0001f83c-c6ac-4621-b7f0-8a28b283ac30              6                1   \n",
       "1  00151b4f-ba38-44a8-a650-d7cf130a0105              4                0   \n",
       "2  001aaea6-3d14-43f1-8ca8-7f48820f17aa              2                0   \n",
       "3  001d39dc-366c-4021-9604-6a3b9ff01e25              4                0   \n",
       "4  002f508f-67b6-479f-814b-b05f00d4e995              3                1   \n",
       "\n",
       "   spaceport  building  finished_stage_1  project  satellite_orbital_assembly  \\\n",
       "0          6        13                 0        0                           0   \n",
       "1          5         9                 0        0                           0   \n",
       "2          2         4                 0        0                           0   \n",
       "3          4         8                 1        0                           0   \n",
       "4          8        12                 0        0                           0   \n",
       "\n",
       "   start_day    end_day                   source  cac  \n",
       "0 2020-05-06 2020-05-20             facebook_ads 0.52  \n",
       "1 2020-05-06 2020-05-18            yandex_direct 0.27  \n",
       "2 2020-05-05 2020-05-14  youtube_channel_reklama 0.22  \n",
       "3 2020-05-05 2020-05-12    instagram_new_adverts 0.39  \n",
       "4 2020-05-05 2020-05-22             facebook_ads 0.37  "
      ]
     },
     "execution_count": 30,
     "metadata": {},
     "output_type": "execute_result"
    }
   ],
   "source": [
    "#добавим САС в таблицу с профилями\n",
    "\n",
    "profiles = profiles.merge(costs[['cac', 'start_day', 'source']], on=['start_day', 'source'], how='left')\n",
    "profiles.head()"
   ]
  },
  {
   "cell_type": "code",
   "execution_count": 31,
   "id": "3bd756c8",
   "metadata": {
    "scrolled": true
   },
   "outputs": [
    {
     "data": {
      "text/html": [
       "<div>\n",
       "<style scoped>\n",
       "    .dataframe tbody tr th:only-of-type {\n",
       "        vertical-align: middle;\n",
       "    }\n",
       "\n",
       "    .dataframe tbody tr th {\n",
       "        vertical-align: top;\n",
       "    }\n",
       "\n",
       "    .dataframe thead th {\n",
       "        text-align: right;\n",
       "    }\n",
       "</style>\n",
       "<table border=\"1\" class=\"dataframe\">\n",
       "  <thead>\n",
       "    <tr style=\"text-align: right;\">\n",
       "      <th></th>\n",
       "      <th>user_id</th>\n",
       "      <th>assembly_shop</th>\n",
       "      <th>research_center</th>\n",
       "      <th>spaceport</th>\n",
       "      <th>building</th>\n",
       "      <th>finished_stage_1</th>\n",
       "      <th>project</th>\n",
       "      <th>satellite_orbital_assembly</th>\n",
       "      <th>start_day</th>\n",
       "      <th>end_day</th>\n",
       "      <th>source</th>\n",
       "      <th>cac</th>\n",
       "      <th>in_game</th>\n",
       "    </tr>\n",
       "  </thead>\n",
       "  <tbody>\n",
       "    <tr>\n",
       "      <th>0</th>\n",
       "      <td>0001f83c-c6ac-4621-b7f0-8a28b283ac30</td>\n",
       "      <td>6</td>\n",
       "      <td>1</td>\n",
       "      <td>6</td>\n",
       "      <td>13</td>\n",
       "      <td>0</td>\n",
       "      <td>0</td>\n",
       "      <td>0</td>\n",
       "      <td>2020-05-06</td>\n",
       "      <td>2020-05-20</td>\n",
       "      <td>facebook_ads</td>\n",
       "      <td>0.52</td>\n",
       "      <td>14</td>\n",
       "    </tr>\n",
       "    <tr>\n",
       "      <th>1</th>\n",
       "      <td>00151b4f-ba38-44a8-a650-d7cf130a0105</td>\n",
       "      <td>4</td>\n",
       "      <td>0</td>\n",
       "      <td>5</td>\n",
       "      <td>9</td>\n",
       "      <td>0</td>\n",
       "      <td>0</td>\n",
       "      <td>0</td>\n",
       "      <td>2020-05-06</td>\n",
       "      <td>2020-05-18</td>\n",
       "      <td>yandex_direct</td>\n",
       "      <td>0.27</td>\n",
       "      <td>12</td>\n",
       "    </tr>\n",
       "    <tr>\n",
       "      <th>2</th>\n",
       "      <td>001aaea6-3d14-43f1-8ca8-7f48820f17aa</td>\n",
       "      <td>2</td>\n",
       "      <td>0</td>\n",
       "      <td>2</td>\n",
       "      <td>4</td>\n",
       "      <td>0</td>\n",
       "      <td>0</td>\n",
       "      <td>0</td>\n",
       "      <td>2020-05-05</td>\n",
       "      <td>2020-05-14</td>\n",
       "      <td>youtube_channel_reklama</td>\n",
       "      <td>0.22</td>\n",
       "      <td>9</td>\n",
       "    </tr>\n",
       "    <tr>\n",
       "      <th>3</th>\n",
       "      <td>001d39dc-366c-4021-9604-6a3b9ff01e25</td>\n",
       "      <td>4</td>\n",
       "      <td>0</td>\n",
       "      <td>4</td>\n",
       "      <td>8</td>\n",
       "      <td>1</td>\n",
       "      <td>0</td>\n",
       "      <td>0</td>\n",
       "      <td>2020-05-05</td>\n",
       "      <td>2020-05-12</td>\n",
       "      <td>instagram_new_adverts</td>\n",
       "      <td>0.39</td>\n",
       "      <td>7</td>\n",
       "    </tr>\n",
       "    <tr>\n",
       "      <th>4</th>\n",
       "      <td>002f508f-67b6-479f-814b-b05f00d4e995</td>\n",
       "      <td>3</td>\n",
       "      <td>1</td>\n",
       "      <td>8</td>\n",
       "      <td>12</td>\n",
       "      <td>0</td>\n",
       "      <td>0</td>\n",
       "      <td>0</td>\n",
       "      <td>2020-05-05</td>\n",
       "      <td>2020-05-22</td>\n",
       "      <td>facebook_ads</td>\n",
       "      <td>0.37</td>\n",
       "      <td>17</td>\n",
       "    </tr>\n",
       "  </tbody>\n",
       "</table>\n",
       "</div>"
      ],
      "text/plain": [
       "                                user_id  assembly_shop  research_center  \\\n",
       "0  0001f83c-c6ac-4621-b7f0-8a28b283ac30              6                1   \n",
       "1  00151b4f-ba38-44a8-a650-d7cf130a0105              4                0   \n",
       "2  001aaea6-3d14-43f1-8ca8-7f48820f17aa              2                0   \n",
       "3  001d39dc-366c-4021-9604-6a3b9ff01e25              4                0   \n",
       "4  002f508f-67b6-479f-814b-b05f00d4e995              3                1   \n",
       "\n",
       "   spaceport  building  finished_stage_1  project  satellite_orbital_assembly  \\\n",
       "0          6        13                 0        0                           0   \n",
       "1          5         9                 0        0                           0   \n",
       "2          2         4                 0        0                           0   \n",
       "3          4         8                 1        0                           0   \n",
       "4          8        12                 0        0                           0   \n",
       "\n",
       "   start_day    end_day                   source  cac  in_game  \n",
       "0 2020-05-06 2020-05-20             facebook_ads 0.52       14  \n",
       "1 2020-05-06 2020-05-18            yandex_direct 0.27       12  \n",
       "2 2020-05-05 2020-05-14  youtube_channel_reklama 0.22        9  \n",
       "3 2020-05-05 2020-05-12    instagram_new_adverts 0.39        7  \n",
       "4 2020-05-05 2020-05-22             facebook_ads 0.37       17  "
      ]
     },
     "execution_count": 31,
     "metadata": {},
     "output_type": "execute_result"
    }
   ],
   "source": [
    "#рассчитаем, сколько времени каждый игрок провел в игре\n",
    "\n",
    "profiles['in_game'] = profiles['end_day'] - profiles['start_day']\n",
    "profiles['in_game'] = profiles['in_game'].dt.days\n",
    "profiles.head()"
   ]
  },
  {
   "cell_type": "code",
   "execution_count": 32,
   "id": "c518d93c",
   "metadata": {},
   "outputs": [
    {
     "data": {
      "image/png": "[encoded data removed]",
      "text/plain": [
       "<Figure size 1080x360 with 1 Axes>"
      ]
     },
     "metadata": {
      "needs_background": "light"
     },
     "output_type": "display_data"
    }
   ],
   "source": [
    "#рассчитаем средний САС для каждого источника\n",
    "\n",
    "profiles.groupby('source')['cac'].mean().plot(kind='bar', figsize=(15,5), color='g', grid=True)\n",
    "plt.title('Средние значения САС по источникам рекламы')\n",
    "plt.xlabel('Рекламный источник')\n",
    "plt.ylabel('Среднее значение САС')\n",
    "plt.show()"
   ]
  },
  {
   "cell_type": "markdown",
   "id": "be1584ce",
   "metadata": {},
   "source": [
    "По среднему показателю самой дешевой выглядит реклама на Youtube, самой дорогой - на Facebook. Посмотрим, сколько пользователей привлек каждый канал."
   ]
  },
  {
   "cell_type": "code",
   "execution_count": 33,
   "id": "b6ad0803",
   "metadata": {},
   "outputs": [
    {
     "data": {
      "text/plain": [
       "source\n",
       "facebook_ads               2726\n",
       "instagram_new_adverts      3347\n",
       "yandex_direct              4817\n",
       "youtube_channel_reklama    2686\n",
       "Name: user_id, dtype: int64"
      ]
     },
     "execution_count": 33,
     "metadata": {},
     "output_type": "execute_result"
    }
   ],
   "source": [
    "profiles.groupby('source')['user_id'].nunique()"
   ]
  },
  {
   "cell_type": "code",
   "execution_count": 34,
   "id": "c0be4663",
   "metadata": {},
   "outputs": [
    {
     "data": {
      "image/png": "[encoded data removed]",
      "text/plain": [
       "<Figure size 1080x360 with 1 Axes>"
      ]
     },
     "metadata": {
      "needs_background": "light"
     },
     "output_type": "display_data"
    }
   ],
   "source": [
    "profiles.groupby('source')['user_id'].nunique().plot(kind='bar', figsize=(15,5), color='g', grid=True)\n",
    "plt.title('Количество пользователей с каждого канала')\n",
    "plt.xlabel('Источник рекламы')\n",
    "plt.ylabel('Количество привлеченной аудитории')\n",
    "plt.show()"
   ]
  },
  {
   "cell_type": "code",
   "execution_count": 35,
   "id": "ccff8991",
   "metadata": {},
   "outputs": [
    {
     "data": {
      "image/png": "[encoded data removed]",
      "text/plain": [
       "<Figure size 1080x360 with 1 Axes>"
      ]
     },
     "metadata": {
      "needs_background": "light"
     },
     "output_type": "display_data"
    },
    {
     "data": {
      "text/plain": [
       "source\n",
       "facebook_ads              1,205.02\n",
       "instagram_new_adverts     1,218.24\n",
       "yandex_direct             1,263.97\n",
       "youtube_channel_reklama     613.89\n",
       "Name: cost, dtype: float64"
      ]
     },
     "execution_count": 35,
     "metadata": {},
     "output_type": "execute_result"
    }
   ],
   "source": [
    "#посмотрим, какой бюджет суммарно потрачен на каждый канал\n",
    "\n",
    "costs.groupby('source')['cost'].sum().plot(kind='bar', figsize=(15,5), color='g', grid=True)\n",
    "plt.title('Суммарный бюджет каждого канала')\n",
    "plt.xlabel('Источник рекламы')\n",
    "plt.ylabel('Суммарный бюджет')\n",
    "plt.show()\n",
    "costs.groupby('source')['cost'].sum()"
   ]
  },
  {
   "cell_type": "markdown",
   "id": "b433e280",
   "metadata": {},
   "source": [
    "Итак, мы имеем:\n",
    "\n",
    "1. больше всего бюджета было потрачено на Инстаграм, меньше всего - на Ютьюб.\n",
    "2. больше всего пользователей пришло с Яндекса.\n",
    "3. Ютьюб имеет самую низкую стоимость привлечения.\n",
    "4. бюджет Ютьюб очень сильно ниже бюджета других источников.\n",
    "\n",
    "Зафиксируем промежуточный результат и посмотрим на качество привлекаемой аудитории."
   ]
  },
  {
   "cell_type": "markdown",
   "id": "bac014e6",
   "metadata": {},
   "source": [
    "# 3.1 Анализ активности пользователей"
   ]
  },
  {
   "cell_type": "code",
   "execution_count": 36,
   "id": "bacc1b01",
   "metadata": {},
   "outputs": [
    {
     "data": {
      "image/png": "[encoded data removed]",
      "text/plain": [
       "<Figure size 1080x360 with 1 Axes>"
      ]
     },
     "metadata": {
      "needs_background": "light"
     },
     "output_type": "display_data"
    }
   ],
   "source": [
    "#посмотрим, какие действия совершали игроки в каких количествах\n",
    "\n",
    "actions['event'].value_counts().plot(kind='bar', figsize=(15,5), grid=True, color='g')\n",
    "plt.title('Кол-во действий игроков с разбивкой по типу действия')\n",
    "plt.xlabel('Тип действия')\n",
    "plt.ylabel('Кол-во')\n",
    "plt.show()"
   ]
  },
  {
   "cell_type": "markdown",
   "id": "c108d108",
   "metadata": {},
   "source": [
    "Лидирует постройка зданий. Логично, ведь их можно строить много в ходе игры. Исследовательский проект в игре реализовало относительно небольшое число игроков."
   ]
  },
  {
   "cell_type": "code",
   "execution_count": 37,
   "id": "8e1f2783",
   "metadata": {},
   "outputs": [
    {
     "data": {
      "text/plain": [
       "source\n",
       "facebook_ads              20.42\n",
       "instagram_new_adverts     24.86\n",
       "yandex_direct             35.19\n",
       "youtube_channel_reklama   19.52\n",
       "Name: building, dtype: float64"
      ]
     },
     "execution_count": 37,
     "metadata": {},
     "output_type": "execute_result"
    }
   ],
   "source": [
    "#посмотрим, часто ли игроки строят здания\n",
    "\n",
    "profiles.groupby('source')['building'].sum() / profiles['building'].sum() * 100"
   ]
  },
  {
   "cell_type": "code",
   "execution_count": 38,
   "id": "215816cd",
   "metadata": {},
   "outputs": [
    {
     "data": {
      "image/png": "[encoded data removed]",
      "text/plain": [
       "<Figure size 1080x360 with 1 Axes>"
      ]
     },
     "metadata": {
      "needs_background": "light"
     },
     "output_type": "display_data"
    }
   ],
   "source": [
    "#посмотрим, какие здания строят чаще\n",
    "\n",
    "actions['building_type'].value_counts().plot(kind='bar', figsize=(15,5), grid=True, color='g')\n",
    "plt.title('Кол-во построек с разбивкой по типу здания')\n",
    "plt.xlabel('Тип здания')\n",
    "plt.ylabel('Кол-во')\n",
    "plt.show()"
   ]
  },
  {
   "cell_type": "code",
   "execution_count": 39,
   "id": "c4ac17b4",
   "metadata": {},
   "outputs": [
    {
     "data": {
      "text/plain": [
       "source\n",
       "facebook_ads              42.19\n",
       "instagram_new_adverts     43.80\n",
       "yandex_direct             42.39\n",
       "youtube_channel_reklama   43.15\n",
       "dtype: float64"
      ]
     },
     "execution_count": 39,
     "metadata": {},
     "output_type": "execute_result"
    }
   ],
   "source": [
    "#посмотрим, сколько игроков завершили 1 уровень\n",
    "\n",
    "profiles.groupby('source')['finished_stage_1'].sum() / profiles.groupby('source')['user_id'].nunique() * 100"
   ]
  },
  {
   "cell_type": "markdown",
   "id": "1da06923",
   "metadata": {},
   "source": [
    "На следующий уровень переходит меньше половины пользователей каждого рекламного источника. Остальные либо растягивают прохождение, либо перестают играть. Среди игроков от Ютьюба и Инстаграма уровень проходит чуть больше людей. "
   ]
  },
  {
   "cell_type": "code",
   "execution_count": 40,
   "id": "6d063631",
   "metadata": {},
   "outputs": [
    {
     "data": {
      "text/plain": [
       "source\n",
       "facebook_ads              14.34\n",
       "instagram_new_adverts     14.22\n",
       "yandex_direct             12.87\n",
       "youtube_channel_reklama   14.11\n",
       "dtype: float64"
      ]
     },
     "execution_count": 40,
     "metadata": {},
     "output_type": "execute_result"
    }
   ],
   "source": [
    "#проверим, сколько игроков завершили первый уровень через исследование\n",
    "\n",
    "profiles.groupby('source')['satellite_orbital_assembly'].sum() / profiles.groupby('source')['user_id'].nunique() * 100"
   ]
  },
  {
   "cell_type": "markdown",
   "id": "81254608",
   "metadata": {},
   "source": [
    "Не более 15% игроков завершили проект. Игроков с Facebook в этой категории совсем немного больше. Данное различие не повлияет на исследование. Хуже всех себя показал Яндекс."
   ]
  },
  {
   "cell_type": "code",
   "execution_count": 41,
   "id": "9924b28d",
   "metadata": {},
   "outputs": [
    {
     "data": {
      "text/plain": [
       "source\n",
       "facebook_ads              10.68\n",
       "instagram_new_adverts     10.75\n",
       "yandex_direct             10.57\n",
       "youtube_channel_reklama   10.55\n",
       "Name: in_game, dtype: float64"
      ]
     },
     "execution_count": 41,
     "metadata": {},
     "output_type": "execute_result"
    }
   ],
   "source": [
    "#посомтрим, сколько в среднем дней проводят в игре игроки из разных источников\n",
    "\n",
    "profiles.groupby('source')['in_game'].mean()"
   ]
  },
  {
   "cell_type": "code",
   "execution_count": 42,
   "id": "7404f9b3",
   "metadata": {},
   "outputs": [
    {
     "data": {
      "image/png": "[encoded data removed]",
      "text/plain": [
       "<Figure size 1080x360 with 1 Axes>"
      ]
     },
     "metadata": {
      "needs_background": "light"
     },
     "output_type": "display_data"
    }
   ],
   "source": [
    "#построим соотношение игроков, завершивших уровень, с разбивкой по рекламным каналам\n",
    "\n",
    "profiles.groupby('source')[['finished_stage_1', 'project']].sum().plot(kind='bar', grid=True, figsize=(15,5))\n",
    "plt.title('Соотношение игроков, завершивших уровень')\n",
    "plt.xlabel('Рекламный канал')\n",
    "plt.ylabel('Кол-во игроков')\n",
    "plt.show()"
   ]
  },
  {
   "cell_type": "markdown",
   "id": "16ec3f47",
   "metadata": {},
   "source": [
    "# 3.2 Вывод"
   ]
  },
  {
   "cell_type": "markdown",
   "id": "ee01dcce",
   "metadata": {},
   "source": [
    "Мы исследовали поведение игроков в разрезе рекламных каналов. Вот, что выяснилось:\n",
    "\n",
    "1. менее половины привлеченных игроков завершают первый уровень;\n",
    "2. менее 15% игроков предпочитают исследования, большая часть выбирает победу над другими;\n",
    "3. игроки с каждого канала привлечения проводят в игре одинаковое кол-во времени - примерно 10 дней;\n",
    "4. среди игровых построек игроки отдают предпочтение космопортам и сборочным цехам, а вот исследовательским центром пользуются далеко не все."
   ]
  },
  {
   "cell_type": "markdown",
   "id": "c9382cca",
   "metadata": {},
   "source": [
    "# 4.1 Статистический анализ данных"
   ]
  },
  {
   "cell_type": "markdown",
   "id": "4dc64318",
   "metadata": {},
   "source": [
    "Проверим следующие гипотезы: \n",
    "\n",
    "1. Н0: время завершения уровня различается в зависимости от способа прохождения: через реализацию проекта или через победу над первым игроком.\n",
    "Н1: время игры не зависит от способа завершения уровня.\n",
    "\n",
    "2. Н0: объект research_center строят только игроки, выбирающие мирный стиль похождения.\n",
    "Н1: строительство исследовательского центра не зависит от способа прохождения уровня."
   ]
  },
  {
   "cell_type": "code",
   "execution_count": 43,
   "id": "d64b4158",
   "metadata": {},
   "outputs": [],
   "source": [
    "#сделаем срезы игроков для исследования 1 гипотезы\n",
    "\n",
    "project_yes = profiles.loc[(profiles['finished_stage_1'] != 0) & (profiles['project'] != 0)]"
   ]
  },
  {
   "cell_type": "code",
   "execution_count": 44,
   "id": "b8973ef9",
   "metadata": {},
   "outputs": [],
   "source": [
    "project_no = profiles.loc[(profiles['finished_stage_1'] != 0) & (profiles['project'] == 0)]"
   ]
  },
  {
   "cell_type": "markdown",
   "id": "36ad35b1",
   "metadata": {},
   "source": [
    "Наша задача - сравнить средние значения этих двух совокупностей. Для этого проведем t-тест и сравним среднее время пребывания в игре участников каждого среза. Пороговое значение зададим в 1%."
   ]
  },
  {
   "cell_type": "code",
   "execution_count": 45,
   "id": "af84dc13",
   "metadata": {},
   "outputs": [],
   "source": [
    "#записываем стобцы со временем в игре в переменные для сравнения\n",
    "\n",
    "sample_yes = project_yes['in_game']\n",
    "sample_no = project_no['in_game']"
   ]
  },
  {
   "cell_type": "code",
   "execution_count": 46,
   "id": "d92604cf",
   "metadata": {},
   "outputs": [
    {
     "data": {
      "image/png": "[encoded data removed]",
      "text/plain": [
       "<Figure size 1080x360 with 1 Axes>"
      ]
     },
     "metadata": {
      "needs_background": "light"
     },
     "output_type": "display_data"
    }
   ],
   "source": [
    "#посмотрим, как распределяются значения в тестовых массивах\n",
    "\n",
    "sample_yes.hist(figsize=(15,5), color='g')\n",
    "plt.title('Распределение игровых дней для исследователей')\n",
    "plt.xlabel('Кол-во дней')\n",
    "plt.ylabel('Кол-во игроков')\n",
    "plt.show()"
   ]
  },
  {
   "cell_type": "code",
   "execution_count": 47,
   "id": "55a13314",
   "metadata": {},
   "outputs": [
    {
     "data": {
      "image/png": "[encoded data removed]",
      "text/plain": [
       "<Figure size 1080x360 with 1 Axes>"
      ]
     },
     "metadata": {
      "needs_background": "light"
     },
     "output_type": "display_data"
    }
   ],
   "source": [
    "sample_no.hist(figsize=(15,5), color='g')\n",
    "plt.title('Распределение игровых дней для завоевателей')\n",
    "plt.xlabel('Кол-во дней')\n",
    "plt.ylabel('Кол-во игроков')\n",
    "plt.show()"
   ]
  },
  {
   "cell_type": "markdown",
   "id": "a7a2c2e7",
   "metadata": {},
   "source": [
    "Распределения обеих совокупностей близки к нормальным со сдвигом в сторону 30 дней. Можем проводить тест."
   ]
  },
  {
   "cell_type": "code",
   "execution_count": 48,
   "id": "f933aa88",
   "metadata": {},
   "outputs": [
    {
     "data": {
      "text/plain": [
       "Ttest_indResult(statistic=22.379862667936557, pvalue=6.570466755643636e-105)"
      ]
     },
     "execution_count": 48,
     "metadata": {},
     "output_type": "execute_result"
    }
   ],
   "source": [
    "#проводим тест\n",
    "\n",
    "alpha = .01\n",
    "\n",
    "result = st.ttest_ind(sample_yes, sample_no, equal_var=False)\n",
    "result"
   ]
  },
  {
   "cell_type": "markdown",
   "id": "83391231",
   "metadata": {},
   "source": [
    "P-value сильно меньше предельного значения, значит мы можем отвергнуть нулевую гипотезу: среднее время игры не зависит от стиля прохождения. Исследуем вторую гипотезу."
   ]
  },
  {
   "cell_type": "code",
   "execution_count": 49,
   "id": "10eb197d",
   "metadata": {},
   "outputs": [],
   "source": [
    "#делаем срезы данных\n",
    "\n",
    "sample_1 = project_yes['research_center']\n",
    "sample_2 = project_no['research_center']"
   ]
  },
  {
   "cell_type": "code",
   "execution_count": 50,
   "id": "a676e9ad",
   "metadata": {},
   "outputs": [
    {
     "data": {
      "image/png": "[encoded data removed]",
      "text/plain": [
       "<Figure size 1080x360 with 1 Axes>"
      ]
     },
     "metadata": {
      "needs_background": "light"
     },
     "output_type": "display_data"
    }
   ],
   "source": [
    "#визуализируем распределения\n",
    "\n",
    "sample_1.hist(figsize=(15,5), color='g')\n",
    "plt.title('График постройки исследовательских центров исследователями')\n",
    "plt.xlabel('Кол-во исследовательских центров')\n",
    "plt.ylabel('Кол-во игроков')\n",
    "plt.show()"
   ]
  },
  {
   "cell_type": "code",
   "execution_count": 51,
   "id": "d9e13571",
   "metadata": {},
   "outputs": [
    {
     "data": {
      "image/png": "[encoded data removed]",
      "text/plain": [
       "<Figure size 1080x360 with 1 Axes>"
      ]
     },
     "metadata": {
      "needs_background": "light"
     },
     "output_type": "display_data"
    }
   ],
   "source": [
    "sample_2.hist(figsize=(15,5), color='g')\n",
    "plt.title('График постройки исследовательских центров завоевателями')\n",
    "plt.xlabel('Кол-во исследовательских центров')\n",
    "plt.ylabel('Кол-во игроков')\n",
    "plt.show()"
   ]
  },
  {
   "cell_type": "markdown",
   "id": "c7182d74",
   "metadata": {},
   "source": [
    "Совокупности имеют похожий тип распределения. Можем проводить тест."
   ]
  },
  {
   "cell_type": "code",
   "execution_count": 52,
   "id": "da7af39e",
   "metadata": {},
   "outputs": [
    {
     "data": {
      "text/plain": [
       "Ttest_indResult(statistic=37.81897545307505, pvalue=1.429625689403116e-265)"
      ]
     },
     "execution_count": 52,
     "metadata": {},
     "output_type": "execute_result"
    }
   ],
   "source": [
    "#проводим тест\n",
    "\n",
    "result = st.ttest_ind(sample_1, sample_2, equal_var=False)\n",
    "result"
   ]
  },
  {
   "cell_type": "markdown",
   "id": "3e180ccc",
   "metadata": {},
   "source": [
    "Полученное Р-значение сильно ниже порога статистической значимости, значит строительство иследовательских центров не сильно привязано к стилю прохождения, игроков останавливает что-то другое."
   ]
  },
  {
   "cell_type": "markdown",
   "id": "3026160b",
   "metadata": {},
   "source": [
    "# Общий вывод "
   ]
  },
  {
   "cell_type": "markdown",
   "id": "c3ae0910",
   "metadata": {},
   "source": [
    "Мы исследовали игровые логи за месяц и данные о закупленной рекламе. На основании полученного результата можно сделать следующие выводы о рентабельности рекламных источников:\n",
    "\n",
    "1. самый дорогой канал по затратам на пользователя - Facebook, самый дешевый - Youtube;\n",
    "2. Ютьюб имеет самую низкую стоимость привлечения, при этом его рекламный бюджет значительно ниже бюджета других тсточников;\n",
    "3. игроки с каждого канала проводят в игре в среднем по 10 дней, далее - переходят на второй уровень или отваливаются;\n",
    "4. выбранная стратегия не влияет на скорость прохождения уровня. \n",
    "\n",
    "Рекомендации по выбору рекламного канала: \n",
    "\n",
    "Youtube хорошо себя показал: он стоит дешево, а аудиторию по количеству привлекает такую же, как дорогой Facebook"
   ]
  },
  {
   "cell_type": "code",
   "execution_count": null,
   "id": "0f5b521e",
   "metadata": {},
   "outputs": [],
   "source": []
  }
 ],
 "metadata": {
  "ExecuteTimeLog": [
   {
    "duration": 1540,
    "start_time": "2022-05-25T07:01:51.131Z"
   },
   {
    "duration": 204,
    "start_time": "2022-05-25T07:01:52.674Z"
   },
   {
    "duration": 0,
    "start_time": "2022-05-25T07:01:52.882Z"
   },
   {
    "duration": 0,
    "start_time": "2022-05-25T07:01:52.888Z"
   },
   {
    "duration": 0,
    "start_time": "2022-05-25T07:01:52.889Z"
   },
   {
    "duration": 0,
    "start_time": "2022-05-25T07:01:52.891Z"
   },
   {
    "duration": 0,
    "start_time": "2022-05-25T07:01:52.899Z"
   },
   {
    "duration": 0,
    "start_time": "2022-05-25T07:01:52.900Z"
   },
   {
    "duration": 0,
    "start_time": "2022-05-25T07:01:52.902Z"
   },
   {
    "duration": 0,
    "start_time": "2022-05-25T07:01:52.907Z"
   },
   {
    "duration": 0,
    "start_time": "2022-05-25T07:01:52.910Z"
   },
   {
    "duration": 0,
    "start_time": "2022-05-25T07:01:52.912Z"
   },
   {
    "duration": 0,
    "start_time": "2022-05-25T07:01:52.913Z"
   },
   {
    "duration": 0,
    "start_time": "2022-05-25T07:01:52.914Z"
   },
   {
    "duration": 0,
    "start_time": "2022-05-25T07:01:52.916Z"
   },
   {
    "duration": 0,
    "start_time": "2022-05-25T07:01:52.917Z"
   },
   {
    "duration": 0,
    "start_time": "2022-05-25T07:01:52.918Z"
   },
   {
    "duration": 0,
    "start_time": "2022-05-25T07:01:52.920Z"
   },
   {
    "duration": 0,
    "start_time": "2022-05-25T07:01:52.922Z"
   },
   {
    "duration": 0,
    "start_time": "2022-05-25T07:01:52.923Z"
   },
   {
    "duration": 0,
    "start_time": "2022-05-25T07:01:52.924Z"
   },
   {
    "duration": 0,
    "start_time": "2022-05-25T07:01:52.926Z"
   },
   {
    "duration": 0,
    "start_time": "2022-05-25T07:01:52.927Z"
   },
   {
    "duration": 0,
    "start_time": "2022-05-25T07:01:52.929Z"
   },
   {
    "duration": 0,
    "start_time": "2022-05-25T07:01:52.930Z"
   },
   {
    "duration": 0,
    "start_time": "2022-05-25T07:01:52.932Z"
   },
   {
    "duration": 0,
    "start_time": "2022-05-25T07:01:52.934Z"
   },
   {
    "duration": 0,
    "start_time": "2022-05-25T07:01:52.935Z"
   },
   {
    "duration": 0,
    "start_time": "2022-05-25T07:01:52.936Z"
   },
   {
    "duration": 0,
    "start_time": "2022-05-25T07:01:52.937Z"
   },
   {
    "duration": 0,
    "start_time": "2022-05-25T07:01:52.938Z"
   },
   {
    "duration": 0,
    "start_time": "2022-05-25T07:01:52.939Z"
   },
   {
    "duration": 0,
    "start_time": "2022-05-25T07:01:52.941Z"
   },
   {
    "duration": 0,
    "start_time": "2022-05-25T07:01:52.942Z"
   },
   {
    "duration": 0,
    "start_time": "2022-05-25T07:01:52.945Z"
   },
   {
    "duration": 0,
    "start_time": "2022-05-25T07:01:52.946Z"
   },
   {
    "duration": 0,
    "start_time": "2022-05-25T07:01:52.946Z"
   },
   {
    "duration": 0,
    "start_time": "2022-05-25T07:01:52.947Z"
   },
   {
    "duration": 0,
    "start_time": "2022-05-25T07:01:52.948Z"
   },
   {
    "duration": 0,
    "start_time": "2022-05-25T07:01:52.989Z"
   },
   {
    "duration": 0,
    "start_time": "2022-05-25T07:01:52.990Z"
   },
   {
    "duration": 0,
    "start_time": "2022-05-25T07:01:52.999Z"
   },
   {
    "duration": 0,
    "start_time": "2022-05-25T07:01:53.000Z"
   },
   {
    "duration": 0,
    "start_time": "2022-05-25T07:01:53.000Z"
   },
   {
    "duration": 0,
    "start_time": "2022-05-25T07:01:53.001Z"
   },
   {
    "duration": 0,
    "start_time": "2022-05-25T07:01:53.002Z"
   },
   {
    "duration": 0,
    "start_time": "2022-05-25T07:01:53.002Z"
   },
   {
    "duration": 1294,
    "start_time": "2022-05-25T16:50:27.529Z"
   },
   {
    "duration": 823,
    "start_time": "2022-05-25T16:50:28.825Z"
   },
   {
    "duration": 47,
    "start_time": "2022-05-25T16:50:29.650Z"
   },
   {
    "duration": 24,
    "start_time": "2022-05-25T16:50:29.700Z"
   },
   {
    "duration": 15,
    "start_time": "2022-05-25T16:50:29.726Z"
   },
   {
    "duration": 42,
    "start_time": "2022-05-25T16:50:29.743Z"
   },
   {
    "duration": 76,
    "start_time": "2022-05-25T16:50:29.787Z"
   },
   {
    "duration": 6,
    "start_time": "2022-05-25T16:50:29.864Z"
   },
   {
    "duration": 12,
    "start_time": "2022-05-25T16:50:29.872Z"
   },
   {
    "duration": 42,
    "start_time": "2022-05-25T16:50:29.886Z"
   },
   {
    "duration": 15,
    "start_time": "2022-05-25T16:50:29.930Z"
   },
   {
    "duration": 9,
    "start_time": "2022-05-25T16:50:29.946Z"
   },
   {
    "duration": 8,
    "start_time": "2022-05-25T16:50:29.956Z"
   },
   {
    "duration": 12,
    "start_time": "2022-05-25T16:50:29.965Z"
   },
   {
    "duration": 583,
    "start_time": "2022-05-25T16:50:29.978Z"
   },
   {
    "duration": 24,
    "start_time": "2022-05-25T16:50:30.562Z"
   },
   {
    "duration": 39,
    "start_time": "2022-05-25T16:50:30.588Z"
   },
   {
    "duration": 24,
    "start_time": "2022-05-25T16:50:30.629Z"
   },
   {
    "duration": 148,
    "start_time": "2022-05-25T16:50:30.655Z"
   },
   {
    "duration": 10,
    "start_time": "2022-05-25T16:50:30.805Z"
   },
   {
    "duration": 5,
    "start_time": "2022-05-25T16:50:30.822Z"
   },
   {
    "duration": 30,
    "start_time": "2022-05-25T16:50:30.828Z"
   },
   {
    "duration": 12,
    "start_time": "2022-05-25T16:50:30.860Z"
   },
   {
    "duration": 13,
    "start_time": "2022-05-25T16:50:30.874Z"
   },
   {
    "duration": 39,
    "start_time": "2022-05-25T16:50:30.888Z"
   },
   {
    "duration": 17,
    "start_time": "2022-05-25T16:50:30.929Z"
   },
   {
    "duration": 8,
    "start_time": "2022-05-25T16:50:30.947Z"
   },
   {
    "duration": 18,
    "start_time": "2022-05-25T16:50:30.958Z"
   },
   {
    "duration": 17,
    "start_time": "2022-05-25T16:50:30.977Z"
   },
   {
    "duration": 39,
    "start_time": "2022-05-25T16:50:30.996Z"
   },
   {
    "duration": 151,
    "start_time": "2022-05-25T16:50:31.037Z"
   },
   {
    "duration": 12,
    "start_time": "2022-05-25T16:50:31.190Z"
   },
   {
    "duration": 172,
    "start_time": "2022-05-25T16:50:31.203Z"
   },
   {
    "duration": 166,
    "start_time": "2022-05-25T16:50:31.376Z"
   },
   {
    "duration": 123,
    "start_time": "2022-05-25T16:50:31.544Z"
   },
   {
    "duration": 14,
    "start_time": "2022-05-25T16:50:31.669Z"
   },
   {
    "duration": 14,
    "start_time": "2022-05-25T16:50:31.684Z"
   },
   {
    "duration": 26,
    "start_time": "2022-05-25T16:50:31.700Z"
   },
   {
    "duration": 19,
    "start_time": "2022-05-25T16:50:31.728Z"
   },
   {
    "duration": 15,
    "start_time": "2022-05-25T16:50:31.749Z"
   },
   {
    "duration": 14,
    "start_time": "2022-05-25T16:50:31.765Z"
   },
   {
    "duration": 9,
    "start_time": "2022-05-25T16:50:31.781Z"
   },
   {
    "duration": 31,
    "start_time": "2022-05-25T16:50:31.792Z"
   },
   {
    "duration": 6,
    "start_time": "2022-05-25T16:50:31.825Z"
   },
   {
    "duration": 9,
    "start_time": "2022-05-25T16:50:31.833Z"
   },
   {
    "duration": 7,
    "start_time": "2022-05-25T16:50:31.844Z"
   },
   {
    "duration": 8,
    "start_time": "2022-05-25T16:50:31.853Z"
   },
   {
    "duration": 122,
    "start_time": "2022-05-25T16:53:45.732Z"
   },
   {
    "duration": 130,
    "start_time": "2022-05-25T16:54:11.425Z"
   },
   {
    "duration": 149,
    "start_time": "2022-05-25T16:54:29.069Z"
   },
   {
    "duration": 149,
    "start_time": "2022-05-25T16:55:08.971Z"
   },
   {
    "duration": 150,
    "start_time": "2022-05-25T16:57:15.764Z"
   },
   {
    "duration": 152,
    "start_time": "2022-05-25T16:57:56.748Z"
   },
   {
    "duration": 155,
    "start_time": "2022-05-25T17:26:10.890Z"
   },
   {
    "duration": 167,
    "start_time": "2022-05-25T17:26:41.424Z"
   },
   {
    "duration": 298,
    "start_time": "2022-05-25T17:39:10.547Z"
   },
   {
    "duration": 193,
    "start_time": "2022-05-25T17:39:35.472Z"
   },
   {
    "duration": 363,
    "start_time": "2022-05-25T17:42:15.435Z"
   },
   {
    "duration": 164,
    "start_time": "2022-05-25T17:47:04.102Z"
   },
   {
    "duration": 91,
    "start_time": "2022-05-25T17:48:01.207Z"
   },
   {
    "duration": 73,
    "start_time": "2022-05-25T17:52:40.820Z"
   },
   {
    "duration": 128,
    "start_time": "2022-05-25T17:52:58.128Z"
   },
   {
    "duration": 9,
    "start_time": "2022-05-25T17:53:12.063Z"
   },
   {
    "duration": 9,
    "start_time": "2022-05-25T17:53:34.719Z"
   },
   {
    "duration": 3,
    "start_time": "2022-05-25T17:53:44.676Z"
   },
   {
    "duration": 1130,
    "start_time": "2022-05-25T17:54:03.409Z"
   },
   {
    "duration": 260,
    "start_time": "2022-05-25T17:54:04.542Z"
   },
   {
    "duration": 3,
    "start_time": "2022-05-25T17:54:04.803Z"
   },
   {
    "duration": 45,
    "start_time": "2022-05-25T17:54:04.808Z"
   },
   {
    "duration": 18,
    "start_time": "2022-05-25T17:54:04.854Z"
   },
   {
    "duration": 21,
    "start_time": "2022-05-25T17:54:04.873Z"
   },
   {
    "duration": 38,
    "start_time": "2022-05-25T17:54:04.924Z"
   },
   {
    "duration": 69,
    "start_time": "2022-05-25T17:54:04.963Z"
   },
   {
    "duration": 5,
    "start_time": "2022-05-25T17:54:05.034Z"
   },
   {
    "duration": 22,
    "start_time": "2022-05-25T17:54:05.041Z"
   },
   {
    "duration": 23,
    "start_time": "2022-05-25T17:54:05.065Z"
   },
   {
    "duration": 33,
    "start_time": "2022-05-25T17:54:05.090Z"
   },
   {
    "duration": 5,
    "start_time": "2022-05-25T17:54:05.125Z"
   },
   {
    "duration": 12,
    "start_time": "2022-05-25T17:54:05.131Z"
   },
   {
    "duration": 17,
    "start_time": "2022-05-25T17:54:05.144Z"
   },
   {
    "duration": 554,
    "start_time": "2022-05-25T17:54:05.163Z"
   },
   {
    "duration": 23,
    "start_time": "2022-05-25T17:54:05.722Z"
   },
   {
    "duration": 23,
    "start_time": "2022-05-25T17:54:05.747Z"
   },
   {
    "duration": 34,
    "start_time": "2022-05-25T17:54:05.771Z"
   },
   {
    "duration": 164,
    "start_time": "2022-05-25T17:54:05.806Z"
   },
   {
    "duration": 16,
    "start_time": "2022-05-25T17:54:05.972Z"
   },
   {
    "duration": 20,
    "start_time": "2022-05-25T17:54:05.990Z"
   },
   {
    "duration": 40,
    "start_time": "2022-05-25T17:54:06.011Z"
   },
   {
    "duration": 14,
    "start_time": "2022-05-25T17:54:06.052Z"
   },
   {
    "duration": 35,
    "start_time": "2022-05-25T17:54:06.067Z"
   },
   {
    "duration": 18,
    "start_time": "2022-05-25T17:54:06.103Z"
   },
   {
    "duration": 32,
    "start_time": "2022-05-25T17:54:06.122Z"
   },
   {
    "duration": 7,
    "start_time": "2022-05-25T17:54:06.157Z"
   },
   {
    "duration": 15,
    "start_time": "2022-05-25T17:54:06.166Z"
   },
   {
    "duration": 22,
    "start_time": "2022-05-25T17:54:06.182Z"
   },
   {
    "duration": 22,
    "start_time": "2022-05-25T17:54:06.206Z"
   },
   {
    "duration": 157,
    "start_time": "2022-05-25T17:54:06.230Z"
   },
   {
    "duration": 12,
    "start_time": "2022-05-25T17:54:06.388Z"
   },
   {
    "duration": 170,
    "start_time": "2022-05-25T17:54:06.402Z"
   },
   {
    "duration": 161,
    "start_time": "2022-05-25T17:54:06.574Z"
   },
   {
    "duration": 117,
    "start_time": "2022-05-25T17:54:06.737Z"
   },
   {
    "duration": 14,
    "start_time": "2022-05-25T17:54:06.856Z"
   },
   {
    "duration": 29,
    "start_time": "2022-05-25T17:54:06.871Z"
   },
   {
    "duration": 16,
    "start_time": "2022-05-25T17:54:06.902Z"
   },
   {
    "duration": 22,
    "start_time": "2022-05-25T17:54:06.920Z"
   },
   {
    "duration": 14,
    "start_time": "2022-05-25T17:54:06.944Z"
   },
   {
    "duration": 18,
    "start_time": "2022-05-25T17:54:06.959Z"
   },
   {
    "duration": 13,
    "start_time": "2022-05-25T17:54:06.978Z"
   },
   {
    "duration": 11,
    "start_time": "2022-05-25T17:54:06.992Z"
   },
   {
    "duration": 19,
    "start_time": "2022-05-25T17:54:07.005Z"
   },
   {
    "duration": 165,
    "start_time": "2022-05-25T17:54:07.026Z"
   },
   {
    "duration": 174,
    "start_time": "2022-05-25T17:54:07.193Z"
   },
   {
    "duration": 5,
    "start_time": "2022-05-25T17:54:07.368Z"
   },
   {
    "duration": 14,
    "start_time": "2022-05-25T17:54:07.374Z"
   },
   {
    "duration": 187,
    "start_time": "2022-05-25T17:54:07.389Z"
   },
   {
    "duration": 180,
    "start_time": "2022-05-25T17:54:07.578Z"
   },
   {
    "duration": 5,
    "start_time": "2022-05-25T17:54:07.760Z"
   },
   {
    "duration": 1202,
    "start_time": "2022-05-28T06:16:34.190Z"
   },
   {
    "duration": 602,
    "start_time": "2022-05-28T06:16:35.394Z"
   },
   {
    "duration": 3,
    "start_time": "2022-05-28T06:16:35.997Z"
   },
   {
    "duration": 51,
    "start_time": "2022-05-28T06:16:36.002Z"
   },
   {
    "duration": 16,
    "start_time": "2022-05-28T06:16:36.055Z"
   },
   {
    "duration": 15,
    "start_time": "2022-05-28T06:16:36.072Z"
   },
   {
    "duration": 64,
    "start_time": "2022-05-28T06:16:36.089Z"
   },
   {
    "duration": 58,
    "start_time": "2022-05-28T06:16:36.155Z"
   },
   {
    "duration": 7,
    "start_time": "2022-05-28T06:16:36.228Z"
   },
   {
    "duration": 16,
    "start_time": "2022-05-28T06:16:36.239Z"
   },
   {
    "duration": 23,
    "start_time": "2022-05-28T06:16:36.257Z"
   },
   {
    "duration": 16,
    "start_time": "2022-05-28T06:16:36.281Z"
   },
   {
    "duration": 17,
    "start_time": "2022-05-28T06:16:36.299Z"
   },
   {
    "duration": 10,
    "start_time": "2022-05-28T06:16:36.317Z"
   },
   {
    "duration": 50,
    "start_time": "2022-05-28T06:16:36.329Z"
   },
   {
    "duration": 392,
    "start_time": "2022-05-28T06:16:36.381Z"
   },
   {
    "duration": 54,
    "start_time": "2022-05-28T06:16:36.775Z"
   },
   {
    "duration": 24,
    "start_time": "2022-05-28T06:16:36.831Z"
   },
   {
    "duration": 26,
    "start_time": "2022-05-28T06:16:36.857Z"
   },
   {
    "duration": 155,
    "start_time": "2022-05-28T06:16:36.884Z"
   },
   {
    "duration": 11,
    "start_time": "2022-05-28T06:16:37.040Z"
   },
   {
    "duration": 5,
    "start_time": "2022-05-28T06:16:37.053Z"
   },
   {
    "duration": 23,
    "start_time": "2022-05-28T06:16:37.059Z"
   },
   {
    "duration": 11,
    "start_time": "2022-05-28T06:16:37.083Z"
   },
   {
    "duration": 33,
    "start_time": "2022-05-28T06:16:37.095Z"
   },
   {
    "duration": 12,
    "start_time": "2022-05-28T06:16:37.129Z"
   },
   {
    "duration": 17,
    "start_time": "2022-05-28T06:16:37.143Z"
   },
   {
    "duration": 7,
    "start_time": "2022-05-28T06:16:37.163Z"
   },
   {
    "duration": 16,
    "start_time": "2022-05-28T06:16:37.171Z"
   },
   {
    "duration": 44,
    "start_time": "2022-05-28T06:16:37.188Z"
   },
   {
    "duration": 14,
    "start_time": "2022-05-28T06:16:37.234Z"
   },
   {
    "duration": 157,
    "start_time": "2022-05-28T06:16:37.250Z"
   },
   {
    "duration": 20,
    "start_time": "2022-05-28T06:16:37.409Z"
   },
   {
    "duration": 154,
    "start_time": "2022-05-28T06:16:37.430Z"
   },
   {
    "duration": 156,
    "start_time": "2022-05-28T06:16:37.586Z"
   },
   {
    "duration": 147,
    "start_time": "2022-05-28T06:16:37.744Z"
   },
   {
    "duration": 7,
    "start_time": "2022-05-28T06:16:37.893Z"
   },
   {
    "duration": 149,
    "start_time": "2022-05-28T06:16:37.902Z"
   },
   {
    "duration": 13,
    "start_time": "2022-05-28T06:16:38.052Z"
   },
   {
    "duration": 12,
    "start_time": "2022-05-28T06:16:38.067Z"
   },
   {
    "duration": 5,
    "start_time": "2022-05-28T06:16:38.081Z"
   },
   {
    "duration": 207,
    "start_time": "2022-05-28T06:16:38.088Z"
   },
   {
    "duration": 6,
    "start_time": "2022-05-28T06:16:38.297Z"
   },
   {
    "duration": 8,
    "start_time": "2022-05-28T06:16:38.304Z"
   },
   {
    "duration": 14,
    "start_time": "2022-05-28T06:16:38.313Z"
   },
   {
    "duration": 145,
    "start_time": "2022-05-28T06:16:38.328Z"
   },
   {
    "duration": 166,
    "start_time": "2022-05-28T06:16:38.475Z"
   },
   {
    "duration": 4,
    "start_time": "2022-05-28T06:16:38.643Z"
   },
   {
    "duration": 6,
    "start_time": "2022-05-28T06:16:38.649Z"
   },
   {
    "duration": 170,
    "start_time": "2022-05-28T06:16:38.657Z"
   },
   {
    "duration": 156,
    "start_time": "2022-05-28T06:16:38.828Z"
   },
   {
    "duration": 5,
    "start_time": "2022-05-28T06:16:38.986Z"
   }
  ],
  "kernelspec": {
   "display_name": "Python 3 (ipykernel)",
   "language": "python",
   "name": "python3"
  },
  "language_info": {
   "codemirror_mode": {
    "name": "ipython",
    "version": 3
   },
   "file_extension": ".py",
   "mimetype": "text/x-python",
   "name": "python",
   "nbconvert_exporter": "python",
   "pygments_lexer": "ipython3",
   "version": "3.9.7"
  },
  "toc": {
   "base_numbering": 1,
   "nav_menu": {},
   "number_sections": true,
   "sideBar": true,
   "skip_h1_title": true,
   "title_cell": "Table of Contents",
   "title_sidebar": "Contents",
   "toc_cell": false,
   "toc_position": {},
   "toc_section_display": true,
   "toc_window_display": true
  }
 },
 "nbformat": 4,
 "nbformat_minor": 5
}
